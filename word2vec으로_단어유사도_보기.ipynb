{
 "cells": [
  {
   "cell_type": "markdown",
   "metadata": {
    "id": "8QOOXB-BTnqv"
   },
   "source": [
    "# 특정 키워드로 word2Vec 단어 유사도 보기"
   ]
  },
  {
   "cell_type": "markdown",
   "metadata": {
    "id": "Z8nV_ihUTnqx"
   },
   "source": [
    "\n",
    "## Word2Vec(Word Embedding to Vector)\n",
    "\n",
    "컴퓨터는 숫자만 인식할 수 있고 한글, 이미지는 바이너리 코드로 저장 됩니다.\n",
    "\n",
    "* one hot encoding(예 [0000001000]) 혹은 Bag of Word에서 vector size가 매우 크고 sparse 하므로 neural net 성능이 잘 나오지 않습니다.\n",
    "* `주위 단어가 비슷하면 해당 단어의 의미는 유사하다` 라는 아이디어\n",
    "* 단어를 트레이닝 시킬 때 주위 단어를 label로 매치하여 최적화\n",
    "* 단어를 `의미를 내포한 dense vector`로 매칭 시키는 것\n",
    "\n",
    "* Word2Vec은 분산 된 텍스트 표현을 사용하여 개념 간 유사성을 봅니다. \n",
    "* 예를 들어, 파리와 프랑스가 베를린과 독일이 (수도와 나라) 같은 방식으로 관련되어 있음을 이해합니다.\n",
    "\n",
    "![word2vec](https://1.bp.blogspot.com/-Q7F8ulD6fC0/UgvnVCSGmXI/AAAAAAAAAbg/MCWLTYBufhs/s1600/image00.gif)\n",
    "이미지 출처 : https://opensource.googleblog.com/2013/08/learning-meaning-behind-words.html\n",
    "\n",
    "* 단어의 임베딩과정을 실시간으로 시각화 : [word embedding visual inspector](https://ronxin.github.io/wevi/)\n",
    "\n",
    "\n",
    "![CBOW와 Skip-Gram](https://i.imgur.com/yXY1LxV.png)\n",
    "출처 : https://arxiv.org/pdf/1301.3781.pdf\n",
    " Tomas Mikolov, Ilya Sutskever, Kai Chen, Greg Corrado, and Jeffrey Dean. Distributed Representations of Words and Phrases and their Compositionality. In Proceedings of NIPS, 2013.\n",
    "\n",
    "\n",
    "* CBOW와 Skip-Gram기법이 있다.\n",
    "\n",
    "    * CBOW(continuous bag-of-words)는 전체 텍스트로 하나의 단어를 예측하기 때문에 작은 데이터셋일 수록 유리하다.    \n",
    "    * 아래 예제에서 __ 에 들어갈 단어를 예측한다.\n",
    "<pre>\n",
    "1) __가 맛있다. \n",
    "2) __를 타는 것이 재미있다. \n",
    "3) 평소보다 두 __로 많이 먹어서 __가 아프다.\n",
    "</pre>\n",
    "\n",
    "    * Skip-Gram은 타겟 단어들로부터 원본 단어를 역으로 예측하는 것이다. CBOW와는 반대로 컨텍스트-타겟 쌍을 새로운 발견으로 처리하고 큰 규모의 데이터셋을 가질 때 유리하다.\n",
    "    * `배`라는 단어 주변에 올 수 있는 단어를 예측한다.\n",
    "    \n",
    "    <pre>\n",
    "    1) *배*가 맛있다. \n",
    "    2) *배*를 타는 것이 재미있다. \n",
    "    3) 평소보다 두 *배*로 많이 먹어서 *배*가 아프다.\n",
    "    </pre>\n",
    "\n",
    "\n",
    "\n",
    "## Word2Vec 참고자료\n",
    "* [word2vec 모델 · 텐서플로우 문서 한글 번역본](https://tensorflowkorea.gitbooks.io/tensorflow-kr/g3doc/tutorials/word2vec/)\n",
    "* [Word2Vec으로 문장 분류하기 · ratsgo's blog](https://ratsgo.github.io/natural%20language%20processing/2017/03/08/word2vec/)\n",
    "* [CS224n: Natural Language Processing with Deep Learning](http://web.stanford.edu/class/cs224n/syllabus.html)\n",
    "* [Word2Vec Tutorial - The Skip-Gram Model · Chris McCormick](http://mccormickml.com/2016/04/19/word2vec-tutorial-the-skip-gram-model/)\n",
    "\n",
    "### 논문\n",
    "* [Efficient Estimation of Word Representations in\n",
    "Vector Space](https://arxiv.org/pdf/1301.3781v3.pdf)\n",
    "* [Distributed Representations of Words and Phrases and their Compositionality](http://papers.nips.cc/paper/5021-distributed-representations-of-words-and-phrases-and-their-compositionality.pdf)\n",
    "\n",
    "## Gensim\n",
    "\n",
    "* [gensim: models.word2vec – Deep learning with word2vec](https://radimrehurek.com/gensim/models/word2vec.html)\n",
    "* [gensim: Tutorials](https://radimrehurek.com/gensim/tutorial.html)\n",
    "* [한국어와 NLTK, Gensim의 만남 - PyCon Korea 2015](https://www.lucypark.kr/docs/2015-pyconkr/)\n"
   ]
  },
  {
   "cell_type": "code",
   "execution_count": 1,
   "metadata": {
    "colab": {
     "base_uri": "https://localhost:8080/"
    },
    "id": "BETIn4l-Tnqx",
    "outputId": "6bac3c23-f30b-41b2-8cec-dadd5587d47d"
   },
   "outputs": [
    {
     "name": "stdout",
     "output_type": "stream",
     "text": [
      "Collecting soynlp\n",
      "  Downloading soynlp-0.0.493-py3-none-any.whl (416 kB)\n",
      "\u001b[K     |████████████████████████████████| 416 kB 622 kB/s eta 0:00:01\n",
      "\u001b[?25hRequirement already satisfied: psutil>=5.0.1 in /Users/KimJungHwan/opt/anaconda3/lib/python3.7/site-packages (from soynlp) (5.6.3)\n",
      "Requirement already satisfied: scikit-learn>=0.20.0 in /Users/KimJungHwan/opt/anaconda3/lib/python3.7/site-packages (from soynlp) (0.23.2)\n",
      "Requirement already satisfied: numpy>=1.12.1 in /Users/KimJungHwan/opt/anaconda3/lib/python3.7/site-packages (from soynlp) (1.19.4)\n",
      "Requirement already satisfied: scipy>=1.1.0 in /Users/KimJungHwan/opt/anaconda3/lib/python3.7/site-packages (from soynlp) (1.5.4)\n",
      "Requirement already satisfied: joblib>=0.11 in /Users/KimJungHwan/opt/anaconda3/lib/python3.7/site-packages (from scikit-learn>=0.20.0->soynlp) (0.13.2)\n",
      "Requirement already satisfied: threadpoolctl>=2.0.0 in /Users/KimJungHwan/opt/anaconda3/lib/python3.7/site-packages (from scikit-learn>=0.20.0->soynlp) (2.1.0)\n",
      "Installing collected packages: soynlp\n",
      "Successfully installed soynlp-0.0.493\n",
      "\u001b[33mWARNING: You are using pip version 20.2.3; however, version 20.2.4 is available.\n",
      "You should consider upgrading via the '/Users/KimJungHwan/opt/anaconda3/bin/python -m pip install --upgrade pip' command.\u001b[0m\n",
      "Name: soynlp\n",
      "Version: 0.0.493\n",
      "Summary: Unsupervised Korean Natural Language Processing Toolkits\n",
      "Home-page: https://github.com/lovit/soynlp\n",
      "Author: Lovit\n",
      "Author-email: soy.lovit@gmail.com\n",
      "License: UNKNOWN\n",
      "Location: /Users/KimJungHwan/opt/anaconda3/lib/python3.7/site-packages\n",
      "Requires: scikit-learn, scipy, psutil, numpy\n",
      "Required-by: \n"
     ]
    }
   ],
   "source": [
    "!pip install soynlp\n",
    "!pip show soynlp"
   ]
  },
  {
   "cell_type": "code",
   "execution_count": 2,
   "metadata": {
    "colab": {
     "base_uri": "https://localhost:8080/"
    },
    "id": "Yx87c13RTnq2",
    "outputId": "7b98385d-641f-40d4-bebc-8049cf0b92bb"
   },
   "outputs": [
    {
     "name": "stdout",
     "output_type": "stream",
     "text": [
      "Collecting gensim\n",
      "  Downloading gensim-3.8.3-cp37-cp37m-macosx_10_9_x86_64.whl (24.2 MB)\n",
      "\u001b[K     |████████████████████████████████| 24.2 MB 363 kB/s eta 0:00:01    |██▏                             | 1.7 MB 522 kB/s eta 0:00:44     |██████                          | 4.6 MB 3.4 MB/s eta 0:00:06\n",
      "\u001b[?25hCollecting smart-open>=1.8.1\n",
      "  Downloading smart_open-3.0.0.tar.gz (113 kB)\n",
      "\u001b[K     |████████████████████████████████| 113 kB 450 kB/s eta 0:00:01\n",
      "\u001b[?25hRequirement already satisfied: numpy>=1.11.3 in /Users/KimJungHwan/opt/anaconda3/lib/python3.7/site-packages (from gensim) (1.19.4)\n",
      "Requirement already satisfied: six>=1.5.0 in /Users/KimJungHwan/opt/anaconda3/lib/python3.7/site-packages (from gensim) (1.15.0)\n",
      "Requirement already satisfied: scipy>=0.18.1 in /Users/KimJungHwan/opt/anaconda3/lib/python3.7/site-packages (from gensim) (1.5.4)\n",
      "Requirement already satisfied: requests in /Users/KimJungHwan/opt/anaconda3/lib/python3.7/site-packages (from smart-open>=1.8.1->gensim) (2.22.0)\n",
      "Requirement already satisfied: urllib3!=1.25.0,!=1.25.1,<1.26,>=1.21.1 in /Users/KimJungHwan/opt/anaconda3/lib/python3.7/site-packages (from requests->smart-open>=1.8.1->gensim) (1.24.2)\n",
      "Requirement already satisfied: chardet<3.1.0,>=3.0.2 in /Users/KimJungHwan/opt/anaconda3/lib/python3.7/site-packages (from requests->smart-open>=1.8.1->gensim) (3.0.4)\n",
      "Requirement already satisfied: certifi>=2017.4.17 in /Users/KimJungHwan/opt/anaconda3/lib/python3.7/site-packages (from requests->smart-open>=1.8.1->gensim) (2020.6.20)\n",
      "Requirement already satisfied: idna<2.9,>=2.5 in /Users/KimJungHwan/opt/anaconda3/lib/python3.7/site-packages (from requests->smart-open>=1.8.1->gensim) (2.8)\n",
      "Building wheels for collected packages: smart-open\n",
      "  Building wheel for smart-open (setup.py) ... \u001b[?25ldone\n",
      "\u001b[?25h  Created wheel for smart-open: filename=smart_open-3.0.0-py3-none-any.whl size=107098 sha256=f046f91b294d4b04ade6b2c711a3f9ca2a44a1d2e74e131e09c61e04f0e0b289\n",
      "  Stored in directory: /Users/KimJungHwan/Library/Caches/pip/wheels/83/a6/12/bf3c1a667bde4251be5b7a3368b2d604c9af2105b5c1cb1870\n",
      "Successfully built smart-open\n",
      "Installing collected packages: smart-open, gensim\n",
      "Successfully installed gensim-3.8.3 smart-open-3.0.0\n",
      "\u001b[33mWARNING: You are using pip version 20.2.3; however, version 20.2.4 is available.\n",
      "You should consider upgrading via the '/Users/KimJungHwan/opt/anaconda3/bin/python -m pip install --upgrade pip' command.\u001b[0m\n",
      "Name: gensim\n",
      "Version: 3.8.3\n",
      "Summary: Python framework for fast Vector Space Modelling\n",
      "Home-page: http://radimrehurek.com/gensim\n",
      "Author: Radim Rehurek\n",
      "Author-email: me@radimrehurek.com\n",
      "License: LGPLv2.1\n",
      "Location: /Users/KimJungHwan/opt/anaconda3/lib/python3.7/site-packages\n",
      "Requires: six, scipy, numpy, smart-open\n",
      "Required-by: \n"
     ]
    }
   ],
   "source": [
    "!pip install gensim\n",
    "!pip show gensim"
   ]
  },
  {
   "cell_type": "code",
   "execution_count": 3,
   "metadata": {
    "id": "cNfJIvh5Tnq6"
   },
   "outputs": [],
   "source": [
    "import pandas as pd\n",
    "import numpy as np\n",
    "import re"
   ]
  },
  {
   "cell_type": "code",
   "execution_count": 4,
   "metadata": {
    "id": "W-_indMFYJlR"
   },
   "outputs": [
    {
     "ename": "AttributeError",
     "evalue": "module 'matplotlib' has no attribute 'pyplot'",
     "output_type": "error",
     "traceback": [
      "\u001b[0;31m---------------------------------------------------------------------------\u001b[0m",
      "\u001b[0;31mAttributeError\u001b[0m                            Traceback (most recent call last)",
      "\u001b[0;32m<ipython-input-4-fdd2aaa368ed>\u001b[0m in \u001b[0;36m<module>\u001b[0;34m\u001b[0m\n\u001b[1;32m     10\u001b[0m \u001b[0;32mimport\u001b[0m \u001b[0mmatplotlib\u001b[0m \u001b[0;32mas\u001b[0m \u001b[0mmpl\u001b[0m\u001b[0;34m\u001b[0m\u001b[0;34m\u001b[0m\u001b[0m\n\u001b[1;32m     11\u001b[0m \u001b[0mmpl\u001b[0m\u001b[0;34m.\u001b[0m\u001b[0mfont_manager\u001b[0m\u001b[0;34m.\u001b[0m\u001b[0m_rebuild\u001b[0m\u001b[0;34m(\u001b[0m\u001b[0;34m)\u001b[0m\u001b[0;34m\u001b[0m\u001b[0;34m\u001b[0m\u001b[0m\n\u001b[0;32m---> 12\u001b[0;31m \u001b[0mmpl\u001b[0m\u001b[0;34m.\u001b[0m\u001b[0mpyplot\u001b[0m\u001b[0;34m.\u001b[0m\u001b[0mrc\u001b[0m\u001b[0;34m(\u001b[0m\u001b[0;34m'font'\u001b[0m\u001b[0;34m,\u001b[0m \u001b[0mfamily\u001b[0m\u001b[0;34m=\u001b[0m\u001b[0;34m'NanumBarunGothic'\u001b[0m\u001b[0;34m)\u001b[0m\u001b[0;34m\u001b[0m\u001b[0;34m\u001b[0m\u001b[0m\n\u001b[0m",
      "\u001b[0;31mAttributeError\u001b[0m: module 'matplotlib' has no attribute 'pyplot'"
     ]
    }
   ],
   "source": [
    "# 그래프에서 한글표현을 위해 폰트를 설치합니다.\n",
    "%config InlineBackend.figure_format = 'retina'\n",
    "\n",
    "#!apt -qq -y install fonts-nanum > /dev/null\n",
    "import matplotlib.font_manager as fm\n",
    "fontpath = '/usr/share/fonts/truetype/nanum/NanumBarunGothic.ttf'\n",
    "font = fm.FontProperties(fname=fontpath, size=9)\n",
    "\n",
    "# 기본 글꼴 변경\n",
    "import matplotlib as mpl\n",
    "mpl.font_manager._rebuild()\n",
    "mpl.pyplot.rc('font', family='NanumBarunGothic')"
   ]
  },
  {
   "cell_type": "markdown",
   "metadata": {
    "id": "Q1ejBdOnguVN"
   },
   "source": []
  },
  {
   "cell_type": "code",
   "execution_count": null,
   "metadata": {
    "colab": {
     "base_uri": "https://localhost:8080/",
     "height": 72,
     "resources": {
      "http://localhost:8080/nbextensions/google.colab/files.js": {
       "data": "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",
       "headers": [
        [
         "content-type",
         "application/javascript"
        ]
       ],
       "ok": true,
       "status": 200,
       "status_text": ""
      }
     }
    },
    "id": "Eo4i-k_0XyJv",
    "outputId": "e1cc8f84-584e-43d4-a061-f94e4264860c"
   },
   "outputs": [],
   "source": []
  },
  {
   "cell_type": "code",
   "execution_count": null,
   "metadata": {
    "id": "ZHB2IusiX0Js"
   },
   "outputs": [],
   "source": []
  },
  {
   "cell_type": "code",
   "execution_count": 5,
   "metadata": {
    "id": "HHV5tLWcTnq_"
   },
   "outputs": [],
   "source": [
    "df = pd.read_csv('petition.csv', parse_dates=['start', 'end'])"
   ]
  },
  {
   "cell_type": "code",
   "execution_count": 57,
   "metadata": {
    "id": "QDqEfjxETnrB"
   },
   "outputs": [
    {
     "data": {
      "text/plain": [
       "(109934, 8)"
      ]
     },
     "execution_count": 57,
     "metadata": {},
     "output_type": "execute_result"
    }
   ],
   "source": [
    "# 관심사별로 텍스트 데이터를 학습시키기 위한 목적도 있지만 전체 텍스트를 돌렸을 때 빠르게 결과를 얻기 위해서 샘플링 하려는 의도도 있습니다.\n",
    "p = r'.*(P2P|은행|금융|주식|증권|공매도|대통령|경제|세계).*'\n",
    "finance = df[df['title'].str.match(p) |\n",
    "           df['content'].str.match(p, flags=re.MULTILINE)]\n",
    "finance.shape"
   ]
  },
  {
   "cell_type": "code",
   "execution_count": 58,
   "metadata": {
    "id": "SumNDRTYTnrE"
   },
   "outputs": [
    {
     "data": {
      "text/html": [
       "<div>\n",
       "<style scoped>\n",
       "    .dataframe tbody tr th:only-of-type {\n",
       "        vertical-align: middle;\n",
       "    }\n",
       "\n",
       "    .dataframe tbody tr th {\n",
       "        vertical-align: top;\n",
       "    }\n",
       "\n",
       "    .dataframe thead th {\n",
       "        text-align: right;\n",
       "    }\n",
       "</style>\n",
       "<table border=\"1\" class=\"dataframe\">\n",
       "  <thead>\n",
       "    <tr style=\"text-align: right;\">\n",
       "      <th></th>\n",
       "      <th>article_id</th>\n",
       "      <th>start</th>\n",
       "      <th>end</th>\n",
       "      <th>answered</th>\n",
       "      <th>votes</th>\n",
       "      <th>category</th>\n",
       "      <th>title</th>\n",
       "      <th>content</th>\n",
       "    </tr>\n",
       "  </thead>\n",
       "  <tbody>\n",
       "    <tr>\n",
       "      <td>2</td>\n",
       "      <td>23</td>\n",
       "      <td>2017-08-19</td>\n",
       "      <td>2017-09-03</td>\n",
       "      <td>0</td>\n",
       "      <td>0</td>\n",
       "      <td>미래</td>\n",
       "      <td>제2의 개성공단</td>\n",
       "      <td>만일 하시는 대통령님 및 각 부처 장관님,주무관님들 안녕하세요!!\\n전남 목포에서 ...</td>\n",
       "    </tr>\n",
       "    <tr>\n",
       "      <td>4</td>\n",
       "      <td>25</td>\n",
       "      <td>2017-08-19</td>\n",
       "      <td>2017-09-03</td>\n",
       "      <td>0</td>\n",
       "      <td>0</td>\n",
       "      <td>미래</td>\n",
       "      <td>제2의 개성공단</td>\n",
       "      <td>만일 하시는 대통령님 및 각 부처 장관님,주무관님들 안녕하세요!!\\n전남 목포에서 ...</td>\n",
       "    </tr>\n",
       "    <tr>\n",
       "      <td>5</td>\n",
       "      <td>26</td>\n",
       "      <td>2017-08-19</td>\n",
       "      <td>2017-08-26</td>\n",
       "      <td>0</td>\n",
       "      <td>2</td>\n",
       "      <td>보건복지</td>\n",
       "      <td>보건복지부 부령 제339호중 “특수의료장비 운영에 관한 규칙” 중  불합리한 행정제...</td>\n",
       "      <td>청원인  왕 기 운\\n서울 도봉구 창동 삼성아파트 101-1103호\\n청원취지\\n보...</td>\n",
       "    </tr>\n",
       "    <tr>\n",
       "      <td>6</td>\n",
       "      <td>27</td>\n",
       "      <td>2017-08-19</td>\n",
       "      <td>2017-09-18</td>\n",
       "      <td>0</td>\n",
       "      <td>1</td>\n",
       "      <td>정치개혁</td>\n",
       "      <td>김이수 헌재소장 임명 재고 건의</td>\n",
       "      <td>문 대통령님께 묻습니다 (2017. 8. 19)\\n저는 경기도 용인에 살고 있는 국...</td>\n",
       "    </tr>\n",
       "    <tr>\n",
       "      <td>7</td>\n",
       "      <td>28</td>\n",
       "      <td>2017-08-19</td>\n",
       "      <td>2017-08-26</td>\n",
       "      <td>0</td>\n",
       "      <td>2137</td>\n",
       "      <td>경제민주화</td>\n",
       "      <td>소액주주를 보호해주십시오</td>\n",
       "      <td>**  존경하옵는 문재인대통령님께\\n저는 중국원양자원이라는 KOSPI상장사의 소액 ...</td>\n",
       "    </tr>\n",
       "  </tbody>\n",
       "</table>\n",
       "</div>"
      ],
      "text/plain": [
       "   article_id      start        end  answered  votes category  \\\n",
       "2          23 2017-08-19 2017-09-03         0      0       미래   \n",
       "4          25 2017-08-19 2017-09-03         0      0       미래   \n",
       "5          26 2017-08-19 2017-08-26         0      2     보건복지   \n",
       "6          27 2017-08-19 2017-09-18         0      1     정치개혁   \n",
       "7          28 2017-08-19 2017-08-26         0   2137    경제민주화   \n",
       "\n",
       "                                               title  \\\n",
       "2                                           제2의 개성공단   \n",
       "4                                           제2의 개성공단   \n",
       "5  보건복지부 부령 제339호중 “특수의료장비 운영에 관한 규칙” 중  불합리한 행정제...   \n",
       "6                                  김이수 헌재소장 임명 재고 건의   \n",
       "7                                      소액주주를 보호해주십시오   \n",
       "\n",
       "                                             content  \n",
       "2  만일 하시는 대통령님 및 각 부처 장관님,주무관님들 안녕하세요!!\\n전남 목포에서 ...  \n",
       "4  만일 하시는 대통령님 및 각 부처 장관님,주무관님들 안녕하세요!!\\n전남 목포에서 ...  \n",
       "5  청원인  왕 기 운\\n서울 도봉구 창동 삼성아파트 101-1103호\\n청원취지\\n보...  \n",
       "6  문 대통령님께 묻습니다 (2017. 8. 19)\\n저는 경기도 용인에 살고 있는 국...  \n",
       "7  **  존경하옵는 문재인대통령님께\\n저는 중국원양자원이라는 KOSPI상장사의 소액 ...  "
      ]
     },
     "execution_count": 58,
     "metadata": {},
     "output_type": "execute_result"
    }
   ],
   "source": [
    "finance.head()"
   ]
  },
  {
   "cell_type": "code",
   "execution_count": 59,
   "metadata": {
    "id": "mS7k2rD4TnrJ"
   },
   "outputs": [
    {
     "data": {
      "text/html": [
       "<div>\n",
       "<style scoped>\n",
       "    .dataframe tbody tr th:only-of-type {\n",
       "        vertical-align: middle;\n",
       "    }\n",
       "\n",
       "    .dataframe tbody tr th {\n",
       "        vertical-align: top;\n",
       "    }\n",
       "\n",
       "    .dataframe thead th {\n",
       "        text-align: right;\n",
       "    }\n",
       "</style>\n",
       "<table border=\"1\" class=\"dataframe\">\n",
       "  <thead>\n",
       "    <tr style=\"text-align: right;\">\n",
       "      <th></th>\n",
       "      <th>article_id</th>\n",
       "      <th>start</th>\n",
       "      <th>end</th>\n",
       "      <th>answered</th>\n",
       "      <th>votes</th>\n",
       "      <th>category</th>\n",
       "      <th>title</th>\n",
       "      <th>content</th>\n",
       "    </tr>\n",
       "  </thead>\n",
       "  <tbody>\n",
       "    <tr>\n",
       "      <td>395527</td>\n",
       "      <td>517096</td>\n",
       "      <td>2019-02-04</td>\n",
       "      <td>2019-03-06</td>\n",
       "      <td>0</td>\n",
       "      <td>7</td>\n",
       "      <td>육아/교육</td>\n",
       "      <td>예비고3이 보는 학생부 종합전형</td>\n",
       "      <td>국민청원에 올려야할 이야기가 아니라는 것은 잘 알고 있지만, 여기만큼 교육에 관심이...</td>\n",
       "    </tr>\n",
       "    <tr>\n",
       "      <td>395528</td>\n",
       "      <td>517097</td>\n",
       "      <td>2019-02-04</td>\n",
       "      <td>2019-03-06</td>\n",
       "      <td>0</td>\n",
       "      <td>3</td>\n",
       "      <td>기타</td>\n",
       "      <td>집매매</td>\n",
       "      <td>대통령님  집값을 안정시키는건좋은대요  전일시적 2주택이되어서   새로매매된집으로 ...</td>\n",
       "    </tr>\n",
       "    <tr>\n",
       "      <td>395534</td>\n",
       "      <td>517105</td>\n",
       "      <td>2019-02-04</td>\n",
       "      <td>2019-03-06</td>\n",
       "      <td>0</td>\n",
       "      <td>3</td>\n",
       "      <td>문화/예술/체육/언론</td>\n",
       "      <td>이기흥 대한체육회장님 한국 중국 일본 스포츠의 격차는 점점 벌어질것 방관 방치하면안됩니다</td>\n",
       "      <td>스포츠는 그냥 스포츠로 끝나는게아니라 국민의정서 사회적인분위기 문화적인측면 경제산업...</td>\n",
       "    </tr>\n",
       "    <tr>\n",
       "      <td>395535</td>\n",
       "      <td>517106</td>\n",
       "      <td>2019-02-04</td>\n",
       "      <td>2019-03-06</td>\n",
       "      <td>0</td>\n",
       "      <td>0</td>\n",
       "      <td>외교/통일/국방</td>\n",
       "      <td>우남 이승만의 명언</td>\n",
       "      <td>\"...항상 표를 더 얻어서 선거에서 승리하기를 갈망하는 정치인들은 공산주의자들과 ...</td>\n",
       "    </tr>\n",
       "    <tr>\n",
       "      <td>395545</td>\n",
       "      <td>517121</td>\n",
       "      <td>2019-02-04</td>\n",
       "      <td>2019-03-06</td>\n",
       "      <td>0</td>\n",
       "      <td>20</td>\n",
       "      <td>정치개혁</td>\n",
       "      <td>청화대,더불어민주당, 당장 답하라,,,,,,</td>\n",
       "      <td>좌파 더불어민주당, 좌파 정권 청화대는 선한 국민들을 더는 기망하지 말고 담장 답하...</td>\n",
       "    </tr>\n",
       "  </tbody>\n",
       "</table>\n",
       "</div>"
      ],
      "text/plain": [
       "        article_id      start        end  answered  votes     category  \\\n",
       "395527      517096 2019-02-04 2019-03-06         0      7        육아/교육   \n",
       "395528      517097 2019-02-04 2019-03-06         0      3           기타   \n",
       "395534      517105 2019-02-04 2019-03-06         0      3  문화/예술/체육/언론   \n",
       "395535      517106 2019-02-04 2019-03-06         0      0     외교/통일/국방   \n",
       "395545      517121 2019-02-04 2019-03-06         0     20         정치개혁   \n",
       "\n",
       "                                                    title  \\\n",
       "395527                                  예비고3이 보는 학생부 종합전형   \n",
       "395528                                                집매매   \n",
       "395534  이기흥 대한체육회장님 한국 중국 일본 스포츠의 격차는 점점 벌어질것 방관 방치하면안됩니다   \n",
       "395535                                         우남 이승만의 명언   \n",
       "395545                           청화대,더불어민주당, 당장 답하라,,,,,,   \n",
       "\n",
       "                                                  content  \n",
       "395527  국민청원에 올려야할 이야기가 아니라는 것은 잘 알고 있지만, 여기만큼 교육에 관심이...  \n",
       "395528  대통령님  집값을 안정시키는건좋은대요  전일시적 2주택이되어서   새로매매된집으로 ...  \n",
       "395534  스포츠는 그냥 스포츠로 끝나는게아니라 국민의정서 사회적인분위기 문화적인측면 경제산업...  \n",
       "395535  \"...항상 표를 더 얻어서 선거에서 승리하기를 갈망하는 정치인들은 공산주의자들과 ...  \n",
       "395545  좌파 더불어민주당, 좌파 정권 청화대는 선한 국민들을 더는 기망하지 말고 담장 답하...  "
      ]
     },
     "execution_count": 59,
     "metadata": {},
     "output_type": "execute_result"
    }
   ],
   "source": [
    "finance.tail()"
   ]
  },
  {
   "cell_type": "code",
   "execution_count": 60,
   "metadata": {
    "id": "zqZGUtOJTnrO"
   },
   "outputs": [],
   "source": [
    "# 샘플로 보고 싶은 인덱스의 번호를 넣어주세요.\n",
    "sample_index = 11"
   ]
  },
  {
   "cell_type": "code",
   "execution_count": 61,
   "metadata": {
    "id": "n4dir8b5TnrS"
   },
   "outputs": [
    {
     "data": {
      "text/plain": [
       "'소액주주 보호를 위해 조사요청 드립니다.'"
      ]
     },
     "execution_count": 61,
     "metadata": {},
     "output_type": "execute_result"
    }
   ],
   "source": [
    "sample_title = finance['title'][sample_index]\n",
    "sample_title"
   ]
  },
  {
   "cell_type": "code",
   "execution_count": 62,
   "metadata": {
    "id": "dl7UOHdRTnrW"
   },
   "outputs": [
    {
     "data": {
      "text/plain": [
       "'존경하는 대통령님께,\\\\n코스피 주식종목 중국 원양자원은 현재 계속되는 장** 대표이사의 기이한 행동에 의하여 감사의견 거절이 나와 상장 폐지를 앞두고 있습니다.\\\\n주주들이 모여 장** 대표를 규탄해야할 이때 거래소 금감원 신한회계법인 의 잘못이라고 주장하며 많은 소액주주들을 이끌고 있는 중국원양자원의 한국인 사외이사 김**과 관련자들의 조사를 원합니다.\\\\n그들은 감사의견 거절 의견 나오기 직전 주주총회에서 장** 대표와 소통이 잘되고 있고 회사는 감사준비를 잘했다. 앞으로 실적이 좋아질것이다. 라고 말하며 (자본시장에 관련법률 위반) 비리에 얼룩진걸로 보이는 (현재 증선위 고발로 검찰조사중임) 장** 대표를 연임시키면서 본인들은 스톡옵션 이라는 거대한 이익을 취하였습니다\\\\n대규모적자상태에서 스톡옵션을 부여한다는 쉽게 납득할수 없는 일들을 관철시키는 과정에서\\\\n회사 실적이 좋아질거다 감사준비 잘했다 등\\\\n사외이사 지위를 이용하여 선취한 회사내부의 정보를 주주모임 대표라는 지위를 이용하여 악용한것으로 보여집니다.\\\\n또한 반대의견을 보이는 주주들을 모두 주주모임 카페에서 강퇴시키는등 여론을 조작하여 시세교란 행위를 유도하였다고 생각됩니다.\\\\n현재는 신한회계를 소송하는 명분으로 주주들에게 수억원의 돈을 모금후 사용처를 밝히지 않고 있으나,\\\\n다른 대안이 없는 소액주주들은 아무말 못하고\\\\n끌려다니며,\\\\n누군가가 시키는 단체행동들을 하고있습니다.\\\\n부디 2만5천의 주주들을 위하여 김** 사외이사와 관련자들을 꼭 조사해주시기 바랍니다\\\\n*본글은 조사를 요청하는 글이지 누군가를 비방하는 글이 아님을 밝힙니다. 혹시 조사전 개인에게 피해가 갈까하여 이름은 가렸습니다.'"
      ]
     },
     "execution_count": 62,
     "metadata": {},
     "output_type": "execute_result"
    }
   ],
   "source": [
    "sample_content = finance['content'][sample_index]\n",
    "sample_content"
   ]
  },
  {
   "cell_type": "markdown",
   "metadata": {
    "id": "yH0qvOAJTnrb"
   },
   "source": [
    "# 텍스트 데이터 전처리 "
   ]
  },
  {
   "cell_type": "code",
   "execution_count": 63,
   "metadata": {
    "id": "OB0o4KTmTnrc"
   },
   "outputs": [
    {
     "data": {
      "text/plain": [
       "'존경하는 대통령님께  코스피 주식종목 중국 원양자원은 현재 계속되는 장   대표이사의 기이한 행동에 의하여 감사의견 거절이 나와 상장 폐지를 앞두고 있습니다  주주들이 모여 장   대표를 규탄해야할 이때 거래소 금감원 신한회계법인 의 잘못이라고 주장하며 많은 소액주주들을 이끌고 있는 중국원양자원의 한국인 사외이사 김  과 관련자들의 조사를 원합니다  그들은 감사의견 거절 의견 나오기 직전 주주총회에서 장   대표와 소통이 잘되고 있고 회사는 감사준비를 잘했다  앞으로 실적이 좋아질것이다  라고 말하며  자본시장에 관련법률 위반  비리에 얼룩진걸로 보이는  현재 증선위 고발로 검찰조사중임  장   대표를 연임시키면서 본인들은 스톡옵션 이라는 거대한 이익을 취하였습니다 대규모적자상태에서 스톡옵션을 부여한다는 쉽게 납득할수 없는 일들을 관철시키는 과정에서 회사 실적이 좋아질거다 감사준비 잘했다 등 사외이사 지위를 이용하여 선취한 회사내부의 정보를 주주모임 대표라는 지위를 이용하여 악용한것으로 보여집니다  또한 반대의견을 보이는 주주들을 모두 주주모임 카페에서 강퇴시키는등 여론을 조작하여 시세교란 행위를 유도하였다고 생각됩니다  현재는 신한회계를 소송하는 명분으로 주주들에게 수억원의 돈을 모금후 사용처를 밝히지 않고 있으나  다른 대안이 없는 소액주주들은 아무말 못하고 끌려다니며  누군가가 시키는 단체행동들을 하고있습니다  부디  만 천의 주주들을 위하여 김   사외이사와 관련자들을 꼭 조사해주시기 바랍니다  본글은 조사를 요청하는 글이지 누군가를 비방하는 글이 아님을 밝힙니다  혹시 조사전 개인에게 피해가 갈까하여 이름은 가렸습니다 '"
      ]
     },
     "execution_count": 63,
     "metadata": {},
     "output_type": "execute_result"
    }
   ],
   "source": [
    "def preprocessing(text):\n",
    "    # 개행문자 제거\n",
    "    text = re.sub('\\\\\\\\n', ' ', text)\n",
    "    # 특수문자 제거\n",
    "    # 특수문자나 이모티콘 등은 때로는 의미를 갖기도 하지만 여기에서는 제거했습니다.\n",
    "    # text = re.sub('[?.,;:|\\)*~`’!^\\-_+<>@\\#$%&-=#}※]', '', text)\n",
    "    # 한글, 영문, 숫자만 남기고 모두 제거하도록 합니다.\n",
    "    # text = re.sub('[^가-힣ㄱ-ㅎㅏ-ㅣa-zA-Z0-9]', ' ', text)\n",
    "    # 한글, 영문만 남기고 모두 제거하도록 합니다.\n",
    "    text = re.sub('[^가-힣ㄱ-ㅎㅏ-ㅣa-zA-Z]', ' ', text)\n",
    "    return text\n",
    "sample_content = preprocessing(sample_content)\n",
    "sample_content[:1000]"
   ]
  },
  {
   "cell_type": "code",
   "execution_count": null,
   "metadata": {
    "id": "ct6A0xDpTnre",
    "scrolled": true
   },
   "outputs": [],
   "source": []
  },
  {
   "cell_type": "code",
   "execution_count": 64,
   "metadata": {
    "id": "wveR5wWATnrh"
   },
   "outputs": [
    {
     "name": "stdout",
     "output_type": "stream",
     "text": [
      "CPU times: user 11 s, sys: 385 ms, total: 11.4 s\n",
      "Wall time: 13.2 s\n"
     ]
    }
   ],
   "source": [
    "# %time을 찍어주면 해당 코드를 실행할 때 걸리는 시간을 출력해 줍니다\n",
    "%time sentences = finance['content'].apply(preprocessing)"
   ]
  },
  {
   "cell_type": "markdown",
   "metadata": {
    "id": "p6LvRooFTnrp"
   },
   "source": [
    "# soynlp를 사용해 토큰화\n",
    "\n",
    "## 텍스트 데이터 전처리 이해하기\n",
    "\n",
    "(출처 : [트위터 한국어 형태소 분석기](https://github.com/twitter/twitter-korean-text))\n",
    "\n",
    "**정규화 normalization (입니닼ㅋㅋ -> 입니다 ㅋㅋ, 샤릉해 -> 사랑해)**\n",
    "\n",
    "* 한국어를 처리하는 예시입니닼ㅋㅋㅋㅋㅋ -> 한국어를 처리하는 예시입니다 ㅋㅋ\n",
    "\n",
    "**토큰화 tokenization**\n",
    "\n",
    "* 한국어를 처리하는 예시입니다 ㅋㅋ -> 한국어Noun, 를Josa, 처리Noun, 하는Verb, 예시Noun, 입Adjective, 니다Eomi ㅋㅋKoreanParticle\n",
    "\n",
    "**어근화 stemming (입니다 -> 이다)**\n",
    "\n",
    "* 한국어를 처리하는 예시입니다 ㅋㅋ -> 한국어Noun, 를Josa, 처리Noun, 하다Verb, 예시Noun, 이다Adjective, ㅋㅋKoreanParticle\n",
    "\n",
    "\n",
    "**어구 추출 phrase extraction** \n",
    "\n",
    "* 한국어를 처리하는 예시입니다 ㅋㅋ -> 한국어, 처리, 예시, 처리하는 예시\n",
    "\n",
    "Introductory Presentation: [Google Slides](https://docs.google.com/presentation/d/10CZj8ry03oCk_Jqw879HFELzOLjJZ0EOi4KJbtRSIeU/)"
   ]
  },
  {
   "cell_type": "code",
   "execution_count": 65,
   "metadata": {
    "id": "0b06SvPMTnrq"
   },
   "outputs": [
    {
     "name": "stderr",
     "output_type": "stream",
     "text": [
      "/Users/KimJungHwan/opt/anaconda3/lib/python3.7/site-packages/soynlp/tokenizer/_tokenizer.py:19: FutureWarning: Possible nested set at position 13\n",
      "  ('english & latin', re.compile(u\"[a-zA-ZÀ-ÿ]+[[`']?s]*|[a-zA-ZÀ-ÿ]+\", re.UNICODE))\n"
     ]
    },
    {
     "data": {
      "text/plain": [
       "<soynlp.tokenizer._tokenizer.RegexTokenizer at 0x7fe01078cf10>"
      ]
     },
     "execution_count": 65,
     "metadata": {},
     "output_type": "execute_result"
    }
   ],
   "source": [
    "from soynlp.tokenizer import RegexTokenizer\n",
    "\n",
    "tokenizer = RegexTokenizer()\n",
    "tokenizer"
   ]
  },
  {
   "cell_type": "code",
   "execution_count": 66,
   "metadata": {
    "id": "ESwys6kRTnrt"
   },
   "outputs": [
    {
     "data": {
      "text/plain": [
       "['소액주주', '보호를', '위해', '조사요청', '드립니다', '.']"
      ]
     },
     "execution_count": 66,
     "metadata": {},
     "output_type": "execute_result"
    }
   ],
   "source": [
    "# 전처리 이전의 샘플 텍스트로 토큰화\n",
    "tokened_title = tokenizer.tokenize(sample_title)\n",
    "tokened_title"
   ]
  },
  {
   "cell_type": "code",
   "execution_count": 67,
   "metadata": {
    "id": "rNGSBnh0Tnrw"
   },
   "outputs": [
    {
     "data": {
      "text/plain": [
       "['존경하는', '대통령님께', '코스피', '주식종목', '중국', '원양자원은', '현재', '계속되는', '장', '대표이사의']"
      ]
     },
     "execution_count": 67,
     "metadata": {},
     "output_type": "execute_result"
    }
   ],
   "source": [
    "# 전처리 이후의 샘플 텍스트로 토큰화\n",
    "tokened_content = tokenizer.tokenize(sample_content)\n",
    "tokened_content[:10]"
   ]
  },
  {
   "cell_type": "code",
   "execution_count": 68,
   "metadata": {
    "id": "pvsw-AApTnry"
   },
   "outputs": [
    {
     "name": "stdout",
     "output_type": "stream",
     "text": [
      "6\n",
      "174\n"
     ]
    }
   ],
   "source": [
    "print(len(tokened_title))\n",
    "print(len(tokened_content))"
   ]
  },
  {
   "cell_type": "code",
   "execution_count": 69,
   "metadata": {
    "id": "vSX1zKusTnr3"
   },
   "outputs": [
    {
     "name": "stdout",
     "output_type": "stream",
     "text": [
      "CPU times: user 3min 29s, sys: 7.8 s, total: 3min 37s\n",
      "Wall time: 5min 9s\n"
     ]
    },
    {
     "data": {
      "text/plain": [
       "2         [만일, 하시는, 대통령님, 및, 각, 부처, 장관님, 주무관님들, 안녕하세요, 전...\n",
       "4         [만일, 하시는, 대통령님, 및, 각, 부처, 장관님, 주무관님들, 안녕하세요, 전...\n",
       "5         [청원인, 왕, 기, 운, 서울, 도봉구, 창동, 삼성아파트, 호, 청원취지, 보건...\n",
       "6         [문, 대통령님께, 묻습니다, 저는, 경기도, 용인에, 살고, 있는, 국민입니다, ...\n",
       "7         [존경하옵는, 문재인대통령님께, 저는, 중국원양자원이라는, KOSPI, 상장사의, ...\n",
       "                                ...                        \n",
       "395527    [국민청원에, 올려야할, 이야기가, 아니라는, 것은, 잘, 알고, 있지만, 여기만큼...\n",
       "395528    [대통령님, 집값을, 안정시키는건좋은대요, 전일시적, 주택이되어서, 새로매매된집으로...\n",
       "395534    [스포츠는, 그냥, 스포츠로, 끝나는게아니라, 국민의정서, 사회적인분위기, 문화적인...\n",
       "395535    [항상, 표를, 더, 얻어서, 선거에서, 승리하기를, 갈망하는, 정치인들은, 공산주...\n",
       "395545    [좌파, 더불어민주당, 좌파, 정권, 청화대는, 선한, 국민들을, 더는, 기망하지,...\n",
       "Name: content, Length: 109934, dtype: object"
      ]
     },
     "execution_count": 69,
     "metadata": {},
     "output_type": "execute_result"
    }
   ],
   "source": [
    "%time tokens = sentences.apply(tokenizer.tokenize)\n",
    "tokens[:]"
   ]
  },
  {
   "cell_type": "code",
   "execution_count": 70,
   "metadata": {
    "id": "1xYqqBYfTnr8"
   },
   "outputs": [
    {
     "data": {
      "text/plain": [
       "['존경하는', '대통령님께', '코스피', '주식종목', '중국', '원양자원은', '현재', '계속되는', '장', '대표이사의']"
      ]
     },
     "execution_count": 70,
     "metadata": {},
     "output_type": "execute_result"
    }
   ],
   "source": [
    "tokens[sample_index][:10]"
   ]
  },
  {
   "cell_type": "code",
   "execution_count": 71,
   "metadata": {
    "id": "0Gbwoow7TnsC"
   },
   "outputs": [],
   "source": [
    "# word2vec 모델 학습에 로그를 찍을 수 있도록 합니다.\n",
    "import logging\n",
    "logging.basicConfig(\n",
    "    format='%(asctime)s : %(levelname)s : %(message)s', \n",
    "    level=logging.INFO)"
   ]
  },
  {
   "cell_type": "code",
   "execution_count": 74,
   "metadata": {
    "id": "Le4o0sxnTnsI"
   },
   "outputs": [
    {
     "name": "stderr",
     "output_type": "stream",
     "text": [
      "2020-11-11 16:22:58,350 : INFO : collecting all words and their counts\n",
      "2020-11-11 16:22:58,400 : INFO : PROGRESS: at sentence #0, processed 0 words, keeping 0 word types\n",
      "2020-11-11 16:23:00,770 : INFO : PROGRESS: at sentence #10000, processed 2412714 words, keeping 304453 word types\n",
      "2020-11-11 16:23:03,064 : INFO : PROGRESS: at sentence #20000, processed 4440265 words, keeping 502575 word types\n",
      "2020-11-11 16:23:04,750 : INFO : PROGRESS: at sentence #30000, processed 6190858 words, keeping 670994 word types\n",
      "2020-11-11 16:23:06,892 : INFO : PROGRESS: at sentence #40000, processed 8211737 words, keeping 831410 word types\n",
      "2020-11-11 16:23:09,574 : INFO : PROGRESS: at sentence #50000, processed 10322706 words, keeping 970050 word types\n",
      "2020-11-11 16:23:13,890 : INFO : PROGRESS: at sentence #60000, processed 12258279 words, keeping 1123410 word types\n",
      "2020-11-11 16:23:18,518 : INFO : PROGRESS: at sentence #70000, processed 14118219 words, keeping 1281816 word types\n",
      "2020-11-11 16:23:22,002 : INFO : PROGRESS: at sentence #80000, processed 15806115 words, keeping 1417655 word types\n",
      "2020-11-11 16:23:24,283 : INFO : PROGRESS: at sentence #90000, processed 17628629 words, keeping 1548809 word types\n",
      "2020-11-11 16:23:26,842 : INFO : PROGRESS: at sentence #100000, processed 19608762 words, keeping 1675575 word types\n",
      "2020-11-11 16:23:29,086 : INFO : collected 1800101 word types from a corpus of 21544694 raw words and 109934 sentences\n",
      "2020-11-11 16:23:29,089 : INFO : Loading a fresh vocabulary\n",
      "2020-11-11 16:23:53,749 : INFO : effective_min_count=1 retains 1800101 unique words (100% of original 1800101, drops 0)\n",
      "2020-11-11 16:23:53,761 : INFO : effective_min_count=1 leaves 21544694 word corpus (100% of original 21544694, drops 0)\n",
      "2020-11-11 16:24:00,849 : INFO : deleting the raw counts dictionary of 1800101 items\n",
      "2020-11-11 16:24:00,937 : INFO : sample=0.001 downsamples 7 most-common words\n",
      "2020-11-11 16:24:00,940 : INFO : downsampling leaves estimated 21409605 word corpus (99.4% of prior 21544694)\n",
      "2020-11-11 16:24:09,432 : INFO : estimated required memory for 1800101 words and 100 dimensions: 2340131300 bytes\n",
      "2020-11-11 16:24:09,434 : INFO : resetting layer weights\n",
      "2020-11-11 16:34:56,744 : INFO : training model with 3 workers on 1800101 vocabulary and 100 features, using sg=0 hs=0 sample=0.001 negative=5 window=5\n",
      "2020-11-11 16:34:57,951 : INFO : EPOCH 1 - PROGRESS: at 0.04% examples, 32319 words/s, in_qsize 6, out_qsize 0\n",
      "2020-11-11 16:34:59,040 : INFO : EPOCH 1 - PROGRESS: at 0.24% examples, 63489 words/s, in_qsize 5, out_qsize 0\n",
      "2020-11-11 16:35:00,133 : INFO : EPOCH 1 - PROGRESS: at 0.66% examples, 86355 words/s, in_qsize 5, out_qsize 0\n",
      "2020-11-11 16:35:01,176 : INFO : EPOCH 1 - PROGRESS: at 1.29% examples, 92241 words/s, in_qsize 6, out_qsize 0\n",
      "2020-11-11 16:35:02,336 : INFO : EPOCH 1 - PROGRESS: at 1.80% examples, 98974 words/s, in_qsize 5, out_qsize 0\n",
      "2020-11-11 16:35:03,364 : INFO : EPOCH 1 - PROGRESS: at 2.19% examples, 109005 words/s, in_qsize 5, out_qsize 0\n",
      "2020-11-11 16:35:04,404 : INFO : EPOCH 1 - PROGRESS: at 2.75% examples, 117095 words/s, in_qsize 5, out_qsize 0\n",
      "2020-11-11 16:35:05,472 : INFO : EPOCH 1 - PROGRESS: at 3.17% examples, 117553 words/s, in_qsize 5, out_qsize 0\n",
      "2020-11-11 16:35:06,609 : INFO : EPOCH 1 - PROGRESS: at 3.68% examples, 118319 words/s, in_qsize 6, out_qsize 2\n",
      "2020-11-11 16:35:07,674 : INFO : EPOCH 1 - PROGRESS: at 4.26% examples, 124943 words/s, in_qsize 6, out_qsize 0\n",
      "2020-11-11 16:35:08,684 : INFO : EPOCH 1 - PROGRESS: at 4.94% examples, 137119 words/s, in_qsize 6, out_qsize 0\n",
      "2020-11-11 16:35:09,749 : INFO : EPOCH 1 - PROGRESS: at 5.96% examples, 147710 words/s, in_qsize 6, out_qsize 0\n",
      "2020-11-11 16:35:10,831 : INFO : EPOCH 1 - PROGRESS: at 7.86% examples, 150624 words/s, in_qsize 4, out_qsize 1\n",
      "2020-11-11 16:35:11,846 : INFO : EPOCH 1 - PROGRESS: at 9.06% examples, 159580 words/s, in_qsize 6, out_qsize 2\n",
      "2020-11-11 16:35:12,969 : INFO : EPOCH 1 - PROGRESS: at 9.77% examples, 160269 words/s, in_qsize 5, out_qsize 0\n",
      "2020-11-11 16:35:14,046 : INFO : EPOCH 1 - PROGRESS: at 10.40% examples, 160325 words/s, in_qsize 6, out_qsize 1\n",
      "2020-11-11 16:35:15,054 : INFO : EPOCH 1 - PROGRESS: at 11.12% examples, 163404 words/s, in_qsize 6, out_qsize 0\n",
      "2020-11-11 16:35:16,073 : INFO : EPOCH 1 - PROGRESS: at 11.64% examples, 162787 words/s, in_qsize 6, out_qsize 0\n",
      "2020-11-11 16:35:17,201 : INFO : EPOCH 1 - PROGRESS: at 12.10% examples, 159418 words/s, in_qsize 6, out_qsize 0\n",
      "2020-11-11 16:35:18,217 : INFO : EPOCH 1 - PROGRESS: at 12.56% examples, 156359 words/s, in_qsize 6, out_qsize 0\n",
      "2020-11-11 16:35:19,218 : INFO : EPOCH 1 - PROGRESS: at 12.95% examples, 153257 words/s, in_qsize 6, out_qsize 0\n",
      "2020-11-11 16:35:20,226 : INFO : EPOCH 1 - PROGRESS: at 13.45% examples, 151126 words/s, in_qsize 5, out_qsize 0\n",
      "2020-11-11 16:35:21,241 : INFO : EPOCH 1 - PROGRESS: at 14.37% examples, 152392 words/s, in_qsize 5, out_qsize 0\n",
      "2020-11-11 16:35:22,284 : INFO : EPOCH 1 - PROGRESS: at 15.23% examples, 155205 words/s, in_qsize 5, out_qsize 1\n",
      "2020-11-11 16:35:23,298 : INFO : EPOCH 1 - PROGRESS: at 16.52% examples, 157910 words/s, in_qsize 6, out_qsize 1\n",
      "2020-11-11 16:35:24,339 : INFO : EPOCH 1 - PROGRESS: at 18.20% examples, 160604 words/s, in_qsize 6, out_qsize 0\n",
      "2020-11-11 16:35:25,342 : INFO : EPOCH 1 - PROGRESS: at 19.56% examples, 165260 words/s, in_qsize 5, out_qsize 0\n",
      "2020-11-11 16:35:26,417 : INFO : EPOCH 1 - PROGRESS: at 21.37% examples, 169094 words/s, in_qsize 6, out_qsize 0\n",
      "2020-11-11 16:35:27,480 : INFO : EPOCH 1 - PROGRESS: at 21.61% examples, 164813 words/s, in_qsize 6, out_qsize 0\n",
      "2020-11-11 16:35:28,501 : INFO : EPOCH 1 - PROGRESS: at 22.15% examples, 162268 words/s, in_qsize 6, out_qsize 0\n",
      "2020-11-11 16:35:29,526 : INFO : EPOCH 1 - PROGRESS: at 23.43% examples, 164583 words/s, in_qsize 4, out_qsize 1\n",
      "2020-11-11 16:35:30,534 : INFO : EPOCH 1 - PROGRESS: at 24.94% examples, 169257 words/s, in_qsize 5, out_qsize 0\n",
      "2020-11-11 16:35:31,596 : INFO : EPOCH 1 - PROGRESS: at 26.58% examples, 173379 words/s, in_qsize 6, out_qsize 0\n",
      "2020-11-11 16:35:32,699 : INFO : EPOCH 1 - PROGRESS: at 27.57% examples, 173119 words/s, in_qsize 5, out_qsize 2\n",
      "2020-11-11 16:35:33,711 : INFO : EPOCH 1 - PROGRESS: at 28.86% examples, 175469 words/s, in_qsize 6, out_qsize 1\n",
      "2020-11-11 16:35:34,745 : INFO : EPOCH 1 - PROGRESS: at 30.65% examples, 179309 words/s, in_qsize 5, out_qsize 0\n",
      "2020-11-11 16:35:35,988 : INFO : EPOCH 1 - PROGRESS: at 31.43% examples, 178335 words/s, in_qsize 5, out_qsize 0\n",
      "2020-11-11 16:35:37,112 : INFO : EPOCH 1 - PROGRESS: at 32.09% examples, 176914 words/s, in_qsize 6, out_qsize 1\n",
      "2020-11-11 16:35:38,175 : INFO : EPOCH 1 - PROGRESS: at 32.39% examples, 174412 words/s, in_qsize 4, out_qsize 1\n",
      "2020-11-11 16:35:39,230 : INFO : EPOCH 1 - PROGRESS: at 32.66% examples, 171812 words/s, in_qsize 5, out_qsize 0\n",
      "2020-11-11 16:35:40,301 : INFO : EPOCH 1 - PROGRESS: at 33.54% examples, 172352 words/s, in_qsize 6, out_qsize 0\n",
      "2020-11-11 16:35:41,320 : INFO : EPOCH 1 - PROGRESS: at 34.32% examples, 172336 words/s, in_qsize 4, out_qsize 1\n",
      "2020-11-11 16:35:42,330 : INFO : EPOCH 1 - PROGRESS: at 35.57% examples, 174944 words/s, in_qsize 6, out_qsize 0\n",
      "2020-11-11 16:35:43,351 : INFO : EPOCH 1 - PROGRESS: at 36.21% examples, 174210 words/s, in_qsize 5, out_qsize 1\n",
      "2020-11-11 16:35:44,387 : INFO : EPOCH 1 - PROGRESS: at 36.98% examples, 174515 words/s, in_qsize 4, out_qsize 1\n",
      "2020-11-11 16:35:45,414 : INFO : EPOCH 1 - PROGRESS: at 38.73% examples, 176293 words/s, in_qsize 5, out_qsize 0\n",
      "2020-11-11 16:35:46,449 : INFO : EPOCH 1 - PROGRESS: at 39.71% examples, 177783 words/s, in_qsize 5, out_qsize 0\n",
      "2020-11-11 16:35:47,458 : INFO : EPOCH 1 - PROGRESS: at 40.72% examples, 179400 words/s, in_qsize 5, out_qsize 0\n",
      "2020-11-11 16:35:48,604 : INFO : EPOCH 1 - PROGRESS: at 41.06% examples, 177556 words/s, in_qsize 6, out_qsize 2\n",
      "2020-11-11 16:35:49,942 : INFO : EPOCH 1 - PROGRESS: at 41.47% examples, 174756 words/s, in_qsize 6, out_qsize 0\n",
      "2020-11-11 16:35:51,177 : INFO : EPOCH 1 - PROGRESS: at 41.97% examples, 172557 words/s, in_qsize 4, out_qsize 1\n",
      "2020-11-11 16:35:52,202 : INFO : EPOCH 1 - PROGRESS: at 42.37% examples, 171801 words/s, in_qsize 5, out_qsize 0\n"
     ]
    },
    {
     "name": "stderr",
     "output_type": "stream",
     "text": [
      "2020-11-11 16:35:53,236 : INFO : EPOCH 1 - PROGRESS: at 42.83% examples, 170046 words/s, in_qsize 6, out_qsize 0\n",
      "2020-11-11 16:35:54,292 : INFO : EPOCH 1 - PROGRESS: at 43.81% examples, 170843 words/s, in_qsize 6, out_qsize 1\n",
      "2020-11-11 16:35:55,311 : INFO : EPOCH 1 - PROGRESS: at 44.40% examples, 170420 words/s, in_qsize 6, out_qsize 0\n",
      "2020-11-11 16:35:56,441 : INFO : EPOCH 1 - PROGRESS: at 45.15% examples, 170636 words/s, in_qsize 5, out_qsize 0\n",
      "2020-11-11 16:35:57,558 : INFO : EPOCH 1 - PROGRESS: at 45.73% examples, 169416 words/s, in_qsize 3, out_qsize 2\n",
      "2020-11-11 16:35:58,688 : INFO : EPOCH 1 - PROGRESS: at 46.20% examples, 168189 words/s, in_qsize 3, out_qsize 2\n",
      "2020-11-11 16:35:59,703 : INFO : EPOCH 1 - PROGRESS: at 46.82% examples, 167329 words/s, in_qsize 5, out_qsize 0\n",
      "2020-11-11 16:36:00,735 : INFO : EPOCH 1 - PROGRESS: at 47.45% examples, 166765 words/s, in_qsize 5, out_qsize 1\n",
      "2020-11-11 16:36:01,852 : INFO : EPOCH 1 - PROGRESS: at 48.18% examples, 166069 words/s, in_qsize 5, out_qsize 0\n",
      "2020-11-11 16:36:02,854 : INFO : EPOCH 1 - PROGRESS: at 48.72% examples, 165248 words/s, in_qsize 6, out_qsize 0\n",
      "2020-11-11 16:36:03,944 : INFO : EPOCH 1 - PROGRESS: at 49.30% examples, 164810 words/s, in_qsize 6, out_qsize 2\n",
      "2020-11-11 16:36:05,006 : INFO : EPOCH 1 - PROGRESS: at 49.97% examples, 164406 words/s, in_qsize 6, out_qsize 2\n",
      "2020-11-11 16:36:06,067 : INFO : EPOCH 1 - PROGRESS: at 50.60% examples, 163844 words/s, in_qsize 6, out_qsize 2\n",
      "2020-11-11 16:36:07,352 : INFO : EPOCH 1 - PROGRESS: at 51.26% examples, 162790 words/s, in_qsize 5, out_qsize 0\n",
      "2020-11-11 16:36:08,425 : INFO : EPOCH 1 - PROGRESS: at 51.44% examples, 160757 words/s, in_qsize 6, out_qsize 0\n",
      "2020-11-11 16:36:09,885 : INFO : EPOCH 1 - PROGRESS: at 51.71% examples, 158192 words/s, in_qsize 6, out_qsize 0\n",
      "2020-11-11 16:36:11,279 : INFO : EPOCH 1 - PROGRESS: at 51.94% examples, 155887 words/s, in_qsize 6, out_qsize 0\n",
      "2020-11-11 16:36:12,353 : INFO : EPOCH 1 - PROGRESS: at 52.06% examples, 154055 words/s, in_qsize 4, out_qsize 1\n",
      "2020-11-11 16:36:13,683 : INFO : EPOCH 1 - PROGRESS: at 52.43% examples, 152517 words/s, in_qsize 6, out_qsize 0\n",
      "2020-11-11 16:36:15,352 : INFO : EPOCH 1 - PROGRESS: at 52.76% examples, 150026 words/s, in_qsize 5, out_qsize 0\n",
      "2020-11-11 16:36:16,582 : INFO : EPOCH 1 - PROGRESS: at 53.28% examples, 148926 words/s, in_qsize 6, out_qsize 1\n",
      "2020-11-11 16:36:17,819 : INFO : EPOCH 1 - PROGRESS: at 53.55% examples, 147362 words/s, in_qsize 5, out_qsize 0\n",
      "2020-11-11 16:36:18,878 : INFO : EPOCH 1 - PROGRESS: at 54.32% examples, 147167 words/s, in_qsize 5, out_qsize 0\n",
      "2020-11-11 16:36:19,885 : INFO : EPOCH 1 - PROGRESS: at 54.51% examples, 145940 words/s, in_qsize 6, out_qsize 0\n",
      "2020-11-11 16:36:21,378 : INFO : EPOCH 1 - PROGRESS: at 54.95% examples, 144519 words/s, in_qsize 6, out_qsize 2\n",
      "2020-11-11 16:36:22,446 : INFO : EPOCH 1 - PROGRESS: at 55.68% examples, 144423 words/s, in_qsize 5, out_qsize 1\n",
      "2020-11-11 16:36:23,589 : INFO : EPOCH 1 - PROGRESS: at 56.28% examples, 143860 words/s, in_qsize 5, out_qsize 1\n",
      "2020-11-11 16:36:24,657 : INFO : EPOCH 1 - PROGRESS: at 57.10% examples, 144134 words/s, in_qsize 5, out_qsize 0\n",
      "2020-11-11 16:36:25,661 : INFO : EPOCH 1 - PROGRESS: at 58.17% examples, 145118 words/s, in_qsize 6, out_qsize 0\n",
      "2020-11-11 16:36:26,691 : INFO : EPOCH 1 - PROGRESS: at 59.27% examples, 146038 words/s, in_qsize 5, out_qsize 0\n",
      "2020-11-11 16:36:27,816 : INFO : EPOCH 1 - PROGRESS: at 60.43% examples, 146536 words/s, in_qsize 4, out_qsize 1\n",
      "2020-11-11 16:36:28,845 : INFO : EPOCH 1 - PROGRESS: at 61.34% examples, 146895 words/s, in_qsize 6, out_qsize 1\n",
      "2020-11-11 16:36:29,881 : INFO : EPOCH 1 - PROGRESS: at 62.41% examples, 147561 words/s, in_qsize 6, out_qsize 1\n",
      "2020-11-11 16:36:30,909 : INFO : EPOCH 1 - PROGRESS: at 63.90% examples, 148918 words/s, in_qsize 6, out_qsize 0\n",
      "2020-11-11 16:36:31,935 : INFO : EPOCH 1 - PROGRESS: at 64.96% examples, 149236 words/s, in_qsize 4, out_qsize 1\n",
      "2020-11-11 16:36:33,021 : INFO : EPOCH 1 - PROGRESS: at 66.32% examples, 150262 words/s, in_qsize 5, out_qsize 0\n",
      "2020-11-11 16:36:34,028 : INFO : EPOCH 1 - PROGRESS: at 67.41% examples, 150514 words/s, in_qsize 5, out_qsize 1\n",
      "2020-11-11 16:36:35,775 : INFO : EPOCH 1 - PROGRESS: at 67.88% examples, 148740 words/s, in_qsize 5, out_qsize 0\n",
      "2020-11-11 16:36:36,919 : INFO : EPOCH 1 - PROGRESS: at 68.14% examples, 147716 words/s, in_qsize 6, out_qsize 0\n",
      "2020-11-11 16:36:37,950 : INFO : EPOCH 1 - PROGRESS: at 68.58% examples, 147060 words/s, in_qsize 6, out_qsize 0\n",
      "2020-11-11 16:36:38,961 : INFO : EPOCH 1 - PROGRESS: at 68.93% examples, 146275 words/s, in_qsize 5, out_qsize 0\n",
      "2020-11-11 16:36:40,155 : INFO : EPOCH 1 - PROGRESS: at 69.28% examples, 145251 words/s, in_qsize 6, out_qsize 1\n",
      "2020-11-11 16:36:41,242 : INFO : EPOCH 1 - PROGRESS: at 69.67% examples, 144470 words/s, in_qsize 6, out_qsize 0\n",
      "2020-11-11 16:36:42,293 : INFO : EPOCH 1 - PROGRESS: at 70.15% examples, 143857 words/s, in_qsize 6, out_qsize 0\n",
      "2020-11-11 16:36:43,345 : INFO : EPOCH 1 - PROGRESS: at 70.79% examples, 143535 words/s, in_qsize 3, out_qsize 2\n",
      "2020-11-11 16:36:44,722 : INFO : EPOCH 1 - PROGRESS: at 71.82% examples, 143378 words/s, in_qsize 4, out_qsize 1\n",
      "2020-11-11 16:36:45,756 : INFO : EPOCH 1 - PROGRESS: at 72.70% examples, 143528 words/s, in_qsize 5, out_qsize 0\n",
      "2020-11-11 16:36:46,979 : INFO : EPOCH 1 - PROGRESS: at 73.48% examples, 143478 words/s, in_qsize 6, out_qsize 0\n",
      "2020-11-11 16:36:48,094 : INFO : EPOCH 1 - PROGRESS: at 74.43% examples, 143697 words/s, in_qsize 5, out_qsize 0\n",
      "2020-11-11 16:36:49,128 : INFO : EPOCH 1 - PROGRESS: at 75.56% examples, 144371 words/s, in_qsize 6, out_qsize 0\n",
      "2020-11-11 16:36:50,159 : INFO : EPOCH 1 - PROGRESS: at 76.41% examples, 144600 words/s, in_qsize 5, out_qsize 0\n",
      "2020-11-11 16:36:51,206 : INFO : EPOCH 1 - PROGRESS: at 77.50% examples, 145353 words/s, in_qsize 6, out_qsize 0\n",
      "2020-11-11 16:36:52,276 : INFO : EPOCH 1 - PROGRESS: at 78.33% examples, 145783 words/s, in_qsize 6, out_qsize 1\n",
      "2020-11-11 16:36:53,300 : INFO : EPOCH 1 - PROGRESS: at 79.40% examples, 146407 words/s, in_qsize 6, out_qsize 0\n",
      "2020-11-11 16:36:54,373 : INFO : EPOCH 1 - PROGRESS: at 80.35% examples, 146528 words/s, in_qsize 5, out_qsize 0\n",
      "2020-11-11 16:36:55,470 : INFO : EPOCH 1 - PROGRESS: at 81.63% examples, 146815 words/s, in_qsize 6, out_qsize 0\n",
      "2020-11-11 16:36:56,670 : INFO : EPOCH 1 - PROGRESS: at 82.60% examples, 146793 words/s, in_qsize 6, out_qsize 1\n",
      "2020-11-11 16:36:57,839 : INFO : EPOCH 1 - PROGRESS: at 83.02% examples, 146093 words/s, in_qsize 6, out_qsize 0\n",
      "2020-11-11 16:36:58,867 : INFO : EPOCH 1 - PROGRESS: at 83.68% examples, 146021 words/s, in_qsize 5, out_qsize 1\n",
      "2020-11-11 16:36:59,882 : INFO : EPOCH 1 - PROGRESS: at 84.75% examples, 146471 words/s, in_qsize 5, out_qsize 0\n",
      "2020-11-11 16:37:00,989 : INFO : EPOCH 1 - PROGRESS: at 85.63% examples, 146784 words/s, in_qsize 5, out_qsize 0\n",
      "2020-11-11 16:37:02,171 : INFO : EPOCH 1 - PROGRESS: at 86.75% examples, 147564 words/s, in_qsize 5, out_qsize 2\n",
      "2020-11-11 16:37:03,227 : INFO : EPOCH 1 - PROGRESS: at 87.11% examples, 147021 words/s, in_qsize 4, out_qsize 1\n",
      "2020-11-11 16:37:04,331 : INFO : EPOCH 1 - PROGRESS: at 87.78% examples, 146914 words/s, in_qsize 6, out_qsize 1\n",
      "2020-11-11 16:37:05,415 : INFO : EPOCH 1 - PROGRESS: at 88.71% examples, 147449 words/s, in_qsize 6, out_qsize 1\n",
      "2020-11-11 16:37:06,577 : INFO : EPOCH 1 - PROGRESS: at 89.69% examples, 147668 words/s, in_qsize 6, out_qsize 2\n",
      "2020-11-11 16:37:08,057 : INFO : EPOCH 1 - PROGRESS: at 90.50% examples, 147284 words/s, in_qsize 4, out_qsize 1\n",
      "2020-11-11 16:37:09,113 : INFO : EPOCH 1 - PROGRESS: at 91.09% examples, 147060 words/s, in_qsize 6, out_qsize 1\n",
      "2020-11-11 16:37:10,262 : INFO : EPOCH 1 - PROGRESS: at 92.24% examples, 147389 words/s, in_qsize 4, out_qsize 1\n",
      "2020-11-11 16:37:11,311 : INFO : EPOCH 1 - PROGRESS: at 92.39% examples, 146460 words/s, in_qsize 5, out_qsize 0\n",
      "2020-11-11 16:37:12,384 : INFO : EPOCH 1 - PROGRESS: at 92.62% examples, 145649 words/s, in_qsize 5, out_qsize 0\n",
      "2020-11-11 16:37:13,728 : INFO : EPOCH 1 - PROGRESS: at 93.44% examples, 145422 words/s, in_qsize 4, out_qsize 1\n",
      "2020-11-11 16:37:14,760 : INFO : EPOCH 1 - PROGRESS: at 94.12% examples, 145332 words/s, in_qsize 5, out_qsize 0\n"
     ]
    },
    {
     "name": "stderr",
     "output_type": "stream",
     "text": [
      "2020-11-11 16:37:15,777 : INFO : EPOCH 1 - PROGRESS: at 95.03% examples, 145952 words/s, in_qsize 6, out_qsize 0\n",
      "2020-11-11 16:37:16,788 : INFO : EPOCH 1 - PROGRESS: at 96.15% examples, 146832 words/s, in_qsize 6, out_qsize 0\n",
      "2020-11-11 16:37:20,943 : INFO : EPOCH 1 - PROGRESS: at 96.35% examples, 144939 words/s, in_qsize 6, out_qsize 0\n",
      "2020-11-11 16:37:21,113 : INFO : EPOCH 1 - PROGRESS: at 96.42% examples, 142788 words/s, in_qsize 6, out_qsize 1\n",
      "2020-11-11 16:37:22,495 : INFO : EPOCH 1 - PROGRESS: at 96.48% examples, 141567 words/s, in_qsize 3, out_qsize 2\n",
      "2020-11-11 16:37:25,640 : INFO : EPOCH 1 - PROGRESS: at 96.66% examples, 138766 words/s, in_qsize 5, out_qsize 0\n",
      "2020-11-11 16:37:29,909 : INFO : EPOCH 1 - PROGRESS: at 96.71% examples, 134958 words/s, in_qsize 6, out_qsize 3\n",
      "2020-11-11 16:37:32,285 : INFO : EPOCH 1 - PROGRESS: at 96.74% examples, 132957 words/s, in_qsize 5, out_qsize 3\n",
      "2020-11-11 16:37:34,583 : INFO : EPOCH 1 - PROGRESS: at 96.78% examples, 131069 words/s, in_qsize 6, out_qsize 3\n",
      "2020-11-11 16:37:36,014 : INFO : EPOCH 1 - PROGRESS: at 96.97% examples, 130181 words/s, in_qsize 5, out_qsize 1\n",
      "2020-11-11 16:37:38,715 : INFO : EPOCH 1 - PROGRESS: at 97.03% examples, 128064 words/s, in_qsize 6, out_qsize 1\n",
      "2020-11-11 16:37:41,457 : INFO : EPOCH 1 - PROGRESS: at 97.15% examples, 126049 words/s, in_qsize 3, out_qsize 2\n",
      "2020-11-11 16:37:43,084 : INFO : EPOCH 1 - PROGRESS: at 97.29% examples, 124987 words/s, in_qsize 5, out_qsize 2\n",
      "2020-11-11 16:37:45,056 : INFO : EPOCH 1 - PROGRESS: at 97.42% examples, 123696 words/s, in_qsize 5, out_qsize 0\n",
      "2020-11-11 16:37:47,101 : INFO : EPOCH 1 - PROGRESS: at 97.53% examples, 122376 words/s, in_qsize 6, out_qsize 1\n",
      "2020-11-11 16:37:49,373 : INFO : EPOCH 1 - PROGRESS: at 97.66% examples, 120928 words/s, in_qsize 6, out_qsize 0\n",
      "2020-11-11 16:37:50,734 : INFO : EPOCH 1 - PROGRESS: at 97.71% examples, 120038 words/s, in_qsize 6, out_qsize 1\n",
      "2020-11-11 16:37:52,827 : INFO : EPOCH 1 - PROGRESS: at 97.82% examples, 118721 words/s, in_qsize 4, out_qsize 2\n",
      "2020-11-11 16:37:54,195 : INFO : EPOCH 1 - PROGRESS: at 97.97% examples, 117958 words/s, in_qsize 5, out_qsize 0\n",
      "2020-11-11 16:37:56,182 : INFO : EPOCH 1 - PROGRESS: at 98.12% examples, 116815 words/s, in_qsize 6, out_qsize 1\n",
      "2020-11-11 16:37:57,497 : INFO : EPOCH 1 - PROGRESS: at 98.27% examples, 116123 words/s, in_qsize 5, out_qsize 0\n",
      "2020-11-11 16:37:59,621 : INFO : EPOCH 1 - PROGRESS: at 98.30% examples, 114825 words/s, in_qsize 6, out_qsize 1\n",
      "2020-11-11 16:38:01,121 : INFO : EPOCH 1 - PROGRESS: at 98.40% examples, 113997 words/s, in_qsize 4, out_qsize 1\n",
      "2020-11-11 16:38:02,349 : INFO : EPOCH 1 - PROGRESS: at 98.54% examples, 113394 words/s, in_qsize 6, out_qsize 0\n",
      "2020-11-11 16:38:03,638 : INFO : EPOCH 1 - PROGRESS: at 98.65% examples, 112761 words/s, in_qsize 4, out_qsize 1\n",
      "2020-11-11 16:38:04,929 : INFO : EPOCH 1 - PROGRESS: at 99.01% examples, 112298 words/s, in_qsize 5, out_qsize 0\n",
      "2020-11-11 16:38:06,597 : INFO : EPOCH 1 - PROGRESS: at 99.28% examples, 111561 words/s, in_qsize 5, out_qsize 1\n",
      "2020-11-11 16:38:07,849 : INFO : EPOCH 1 - PROGRESS: at 99.67% examples, 111140 words/s, in_qsize 3, out_qsize 2\n",
      "2020-11-11 16:38:08,856 : INFO : EPOCH 1 - PROGRESS: at 99.96% examples, 110984 words/s, in_qsize 2, out_qsize 1\n",
      "2020-11-11 16:38:08,862 : INFO : worker thread finished; awaiting finish of 2 more threads\n",
      "2020-11-11 16:38:09,187 : INFO : worker thread finished; awaiting finish of 1 more threads\n",
      "2020-11-11 16:38:09,228 : INFO : worker thread finished; awaiting finish of 0 more threads\n",
      "2020-11-11 16:38:09,237 : INFO : EPOCH - 1 : training on 21544694 raw words (21317722 effective words) took 192.3s, 110842 effective words/s\n",
      "2020-11-11 16:38:10,319 : INFO : EPOCH 2 - PROGRESS: at 0.21% examples, 115088 words/s, in_qsize 5, out_qsize 0\n",
      "2020-11-11 16:38:11,565 : INFO : EPOCH 2 - PROGRESS: at 0.83% examples, 144482 words/s, in_qsize 4, out_qsize 1\n",
      "2020-11-11 16:38:12,566 : INFO : EPOCH 2 - PROGRESS: at 1.43% examples, 129705 words/s, in_qsize 5, out_qsize 0\n",
      "2020-11-11 16:38:13,630 : INFO : EPOCH 2 - PROGRESS: at 1.80% examples, 124291 words/s, in_qsize 5, out_qsize 0\n",
      "2020-11-11 16:38:14,636 : INFO : EPOCH 2 - PROGRESS: at 2.19% examples, 131996 words/s, in_qsize 6, out_qsize 1\n",
      "2020-11-11 16:38:15,641 : INFO : EPOCH 2 - PROGRESS: at 2.71% examples, 136004 words/s, in_qsize 6, out_qsize 0\n",
      "2020-11-11 16:38:16,671 : INFO : EPOCH 2 - PROGRESS: at 3.40% examples, 144413 words/s, in_qsize 5, out_qsize 0\n",
      "2020-11-11 16:38:17,684 : INFO : EPOCH 2 - PROGRESS: at 3.87% examples, 144968 words/s, in_qsize 6, out_qsize 0\n",
      "2020-11-11 16:38:18,754 : INFO : EPOCH 2 - PROGRESS: at 4.45% examples, 149396 words/s, in_qsize 6, out_qsize 2\n",
      "2020-11-11 16:38:19,801 : INFO : EPOCH 2 - PROGRESS: at 5.07% examples, 159364 words/s, in_qsize 4, out_qsize 1\n",
      "2020-11-11 16:38:21,098 : INFO : EPOCH 2 - PROGRESS: at 6.29% examples, 160856 words/s, in_qsize 6, out_qsize 0\n",
      "2020-11-11 16:38:22,167 : INFO : EPOCH 2 - PROGRESS: at 7.86% examples, 163043 words/s, in_qsize 5, out_qsize 0\n",
      "2020-11-11 16:38:24,158 : INFO : EPOCH 2 - PROGRESS: at 8.50% examples, 151465 words/s, in_qsize 5, out_qsize 0\n",
      "2020-11-11 16:38:25,190 : INFO : EPOCH 2 - PROGRESS: at 9.12% examples, 150697 words/s, in_qsize 5, out_qsize 0\n",
      "2020-11-11 16:38:26,192 : INFO : EPOCH 2 - PROGRESS: at 9.84% examples, 153609 words/s, in_qsize 4, out_qsize 1\n",
      "2020-11-11 16:38:27,471 : INFO : EPOCH 2 - PROGRESS: at 10.35% examples, 150713 words/s, in_qsize 4, out_qsize 1\n",
      "2020-11-11 16:38:28,477 : INFO : EPOCH 2 - PROGRESS: at 10.53% examples, 145762 words/s, in_qsize 3, out_qsize 2\n",
      "2020-11-11 16:38:29,751 : INFO : EPOCH 2 - PROGRESS: at 10.82% examples, 140961 words/s, in_qsize 5, out_qsize 0\n",
      "2020-11-11 16:38:30,802 : INFO : EPOCH 2 - PROGRESS: at 11.07% examples, 137507 words/s, in_qsize 6, out_qsize 0\n",
      "2020-11-11 16:38:31,940 : INFO : EPOCH 2 - PROGRESS: at 11.45% examples, 135721 words/s, in_qsize 6, out_qsize 0\n",
      "2020-11-11 16:38:33,045 : INFO : EPOCH 2 - PROGRESS: at 11.81% examples, 133446 words/s, in_qsize 6, out_qsize 2\n",
      "2020-11-11 16:38:34,080 : INFO : EPOCH 2 - PROGRESS: at 12.31% examples, 132167 words/s, in_qsize 5, out_qsize 0\n",
      "2020-11-11 16:38:35,079 : INFO : EPOCH 2 - PROGRESS: at 12.95% examples, 132667 words/s, in_qsize 5, out_qsize 0\n",
      "2020-11-11 16:38:36,285 : INFO : EPOCH 2 - PROGRESS: at 13.30% examples, 129538 words/s, in_qsize 6, out_qsize 1\n",
      "2020-11-11 16:38:37,464 : INFO : EPOCH 2 - PROGRESS: at 13.77% examples, 127252 words/s, in_qsize 5, out_qsize 1\n",
      "2020-11-11 16:38:38,677 : INFO : EPOCH 2 - PROGRESS: at 14.46% examples, 126914 words/s, in_qsize 6, out_qsize 2\n",
      "2020-11-11 16:38:39,759 : INFO : EPOCH 2 - PROGRESS: at 14.69% examples, 124302 words/s, in_qsize 6, out_qsize 2\n",
      "2020-11-11 16:38:41,346 : INFO : EPOCH 2 - PROGRESS: at 15.03% examples, 120858 words/s, in_qsize 4, out_qsize 1\n",
      "2020-11-11 16:38:42,392 : INFO : EPOCH 2 - PROGRESS: at 15.43% examples, 120749 words/s, in_qsize 4, out_qsize 1\n",
      "2020-11-11 16:38:43,498 : INFO : EPOCH 2 - PROGRESS: at 15.95% examples, 120164 words/s, in_qsize 6, out_qsize 1\n",
      "2020-11-11 16:38:44,713 : INFO : EPOCH 2 - PROGRESS: at 17.06% examples, 119366 words/s, in_qsize 5, out_qsize 2\n",
      "2020-11-11 16:38:45,717 : INFO : EPOCH 2 - PROGRESS: at 17.65% examples, 118196 words/s, in_qsize 6, out_qsize 0\n",
      "2020-11-11 16:38:46,773 : INFO : EPOCH 2 - PROGRESS: at 18.40% examples, 118638 words/s, in_qsize 5, out_qsize 0\n",
      "2020-11-11 16:38:49,010 : INFO : EPOCH 2 - PROGRESS: at 18.48% examples, 112656 words/s, in_qsize 5, out_qsize 1\n",
      "2020-11-11 16:38:50,014 : INFO : EPOCH 2 - PROGRESS: at 18.64% examples, 110629 words/s, in_qsize 6, out_qsize 0\n",
      "2020-11-11 16:38:51,217 : INFO : EPOCH 2 - PROGRESS: at 18.71% examples, 107920 words/s, in_qsize 4, out_qsize 1\n",
      "2020-11-11 16:38:52,290 : INFO : EPOCH 2 - PROGRESS: at 18.98% examples, 106581 words/s, in_qsize 3, out_qsize 2\n",
      "2020-11-11 16:38:53,347 : INFO : EPOCH 2 - PROGRESS: at 19.76% examples, 107368 words/s, in_qsize 4, out_qsize 1\n",
      "2020-11-11 16:38:55,270 : INFO : EPOCH 2 - PROGRESS: at 20.00% examples, 103678 words/s, in_qsize 6, out_qsize 0\n",
      "2020-11-11 16:38:56,390 : INFO : EPOCH 2 - PROGRESS: at 20.19% examples, 101836 words/s, in_qsize 6, out_qsize 0\n"
     ]
    },
    {
     "name": "stderr",
     "output_type": "stream",
     "text": [
      "2020-11-11 16:38:58,267 : INFO : EPOCH 2 - PROGRESS: at 20.41% examples, 98536 words/s, in_qsize 4, out_qsize 2\n",
      "2020-11-11 16:38:59,303 : INFO : EPOCH 2 - PROGRESS: at 20.77% examples, 97664 words/s, in_qsize 6, out_qsize 1\n",
      "2020-11-11 16:39:00,384 : INFO : EPOCH 2 - PROGRESS: at 21.37% examples, 97696 words/s, in_qsize 5, out_qsize 0\n",
      "2020-11-11 16:39:01,408 : INFO : EPOCH 2 - PROGRESS: at 22.01% examples, 98030 words/s, in_qsize 5, out_qsize 0\n",
      "2020-11-11 16:39:02,464 : INFO : EPOCH 2 - PROGRESS: at 22.83% examples, 99001 words/s, in_qsize 5, out_qsize 2\n",
      "2020-11-11 16:39:03,514 : INFO : EPOCH 2 - PROGRESS: at 23.62% examples, 99765 words/s, in_qsize 5, out_qsize 0\n",
      "2020-11-11 16:39:04,705 : INFO : EPOCH 2 - PROGRESS: at 23.80% examples, 98329 words/s, in_qsize 6, out_qsize 0\n",
      "2020-11-11 16:39:05,766 : INFO : EPOCH 2 - PROGRESS: at 24.16% examples, 97531 words/s, in_qsize 5, out_qsize 0\n",
      "2020-11-11 16:39:06,788 : INFO : EPOCH 2 - PROGRESS: at 24.53% examples, 97656 words/s, in_qsize 5, out_qsize 0\n",
      "2020-11-11 16:39:08,005 : INFO : EPOCH 2 - PROGRESS: at 25.13% examples, 97640 words/s, in_qsize 6, out_qsize 0\n",
      "2020-11-11 16:39:09,062 : INFO : EPOCH 2 - PROGRESS: at 25.54% examples, 97615 words/s, in_qsize 5, out_qsize 0\n",
      "2020-11-11 16:39:10,105 : INFO : EPOCH 2 - PROGRESS: at 25.86% examples, 96888 words/s, in_qsize 6, out_qsize 0\n",
      "2020-11-11 16:39:11,310 : INFO : EPOCH 2 - PROGRESS: at 26.13% examples, 95640 words/s, in_qsize 6, out_qsize 1\n",
      "2020-11-11 16:39:12,676 : INFO : EPOCH 2 - PROGRESS: at 26.49% examples, 94501 words/s, in_qsize 5, out_qsize 2\n",
      "2020-11-11 16:39:13,816 : INFO : EPOCH 2 - PROGRESS: at 26.64% examples, 93288 words/s, in_qsize 4, out_qsize 2\n",
      "2020-11-11 16:39:14,944 : INFO : EPOCH 2 - PROGRESS: at 27.12% examples, 92965 words/s, in_qsize 5, out_qsize 2\n",
      "2020-11-11 16:39:16,015 : INFO : EPOCH 2 - PROGRESS: at 27.72% examples, 93303 words/s, in_qsize 4, out_qsize 1\n",
      "2020-11-11 16:39:17,100 : INFO : EPOCH 2 - PROGRESS: at 28.08% examples, 93043 words/s, in_qsize 6, out_qsize 0\n",
      "2020-11-11 16:39:18,520 : INFO : EPOCH 2 - PROGRESS: at 28.41% examples, 92090 words/s, in_qsize 6, out_qsize 0\n",
      "2020-11-11 16:39:20,311 : INFO : EPOCH 2 - PROGRESS: at 28.77% examples, 90686 words/s, in_qsize 6, out_qsize 2\n",
      "2020-11-11 16:39:21,372 : INFO : EPOCH 2 - PROGRESS: at 29.07% examples, 90169 words/s, in_qsize 6, out_qsize 0\n",
      "2020-11-11 16:39:22,510 : INFO : EPOCH 2 - PROGRESS: at 29.43% examples, 89661 words/s, in_qsize 3, out_qsize 2\n",
      "2020-11-11 16:39:23,846 : INFO : EPOCH 2 - PROGRESS: at 29.72% examples, 88847 words/s, in_qsize 5, out_qsize 2\n",
      "2020-11-11 16:39:24,900 : INFO : EPOCH 2 - PROGRESS: at 29.88% examples, 87985 words/s, in_qsize 6, out_qsize 0\n",
      "2020-11-11 16:39:25,915 : INFO : EPOCH 2 - PROGRESS: at 30.00% examples, 87076 words/s, in_qsize 5, out_qsize 0\n",
      "2020-11-11 16:39:26,919 : INFO : EPOCH 2 - PROGRESS: at 30.14% examples, 86294 words/s, in_qsize 5, out_qsize 0\n",
      "2020-11-11 16:39:27,978 : INFO : EPOCH 2 - PROGRESS: at 30.54% examples, 85998 words/s, in_qsize 4, out_qsize 1\n",
      "2020-11-11 16:39:29,034 : INFO : EPOCH 2 - PROGRESS: at 30.92% examples, 85955 words/s, in_qsize 3, out_qsize 2\n",
      "2020-11-11 16:39:30,239 : INFO : EPOCH 2 - PROGRESS: at 31.45% examples, 86118 words/s, in_qsize 5, out_qsize 0\n",
      "2020-11-11 16:39:31,915 : INFO : EPOCH 2 - PROGRESS: at 31.93% examples, 85640 words/s, in_qsize 6, out_qsize 0\n",
      "2020-11-11 16:39:33,541 : INFO : EPOCH 2 - PROGRESS: at 32.09% examples, 84445 words/s, in_qsize 4, out_qsize 1\n",
      "2020-11-11 16:39:34,713 : INFO : EPOCH 2 - PROGRESS: at 32.39% examples, 84280 words/s, in_qsize 6, out_qsize 1\n",
      "2020-11-11 16:39:36,245 : INFO : EPOCH 2 - PROGRESS: at 32.59% examples, 83419 words/s, in_qsize 6, out_qsize 1\n",
      "2020-11-11 16:39:37,703 : INFO : EPOCH 2 - PROGRESS: at 32.86% examples, 82863 words/s, in_qsize 5, out_qsize 0\n",
      "2020-11-11 16:39:39,064 : INFO : EPOCH 2 - PROGRESS: at 33.16% examples, 82251 words/s, in_qsize 4, out_qsize 2\n",
      "2020-11-11 16:39:40,220 : INFO : EPOCH 2 - PROGRESS: at 33.64% examples, 82485 words/s, in_qsize 6, out_qsize 0\n",
      "2020-11-11 16:39:41,395 : INFO : EPOCH 2 - PROGRESS: at 33.95% examples, 82172 words/s, in_qsize 6, out_qsize 1\n",
      "2020-11-11 16:39:42,463 : INFO : EPOCH 2 - PROGRESS: at 34.48% examples, 82577 words/s, in_qsize 4, out_qsize 1\n",
      "2020-11-11 16:39:43,698 : INFO : EPOCH 2 - PROGRESS: at 34.81% examples, 82379 words/s, in_qsize 4, out_qsize 2\n",
      "2020-11-11 16:39:45,042 : INFO : EPOCH 2 - PROGRESS: at 35.07% examples, 81840 words/s, in_qsize 5, out_qsize 0\n",
      "2020-11-11 16:39:46,179 : INFO : EPOCH 2 - PROGRESS: at 35.40% examples, 81657 words/s, in_qsize 6, out_qsize 0\n",
      "2020-11-11 16:39:47,225 : INFO : EPOCH 2 - PROGRESS: at 35.57% examples, 81171 words/s, in_qsize 5, out_qsize 0\n",
      "2020-11-11 16:39:48,322 : INFO : EPOCH 2 - PROGRESS: at 35.66% examples, 80519 words/s, in_qsize 4, out_qsize 1\n",
      "2020-11-11 16:39:49,579 : INFO : EPOCH 2 - PROGRESS: at 35.98% examples, 80089 words/s, in_qsize 6, out_qsize 1\n",
      "2020-11-11 16:39:51,117 : INFO : EPOCH 2 - PROGRESS: at 36.21% examples, 79474 words/s, in_qsize 6, out_qsize 1\n",
      "2020-11-11 16:39:52,370 : INFO : EPOCH 2 - PROGRESS: at 36.40% examples, 79072 words/s, in_qsize 6, out_qsize 0\n",
      "2020-11-11 16:39:53,575 : INFO : EPOCH 2 - PROGRESS: at 36.66% examples, 78748 words/s, in_qsize 6, out_qsize 2\n",
      "2020-11-11 16:39:54,599 : INFO : EPOCH 2 - PROGRESS: at 37.08% examples, 78884 words/s, in_qsize 5, out_qsize 0\n",
      "2020-11-11 16:39:55,951 : INFO : EPOCH 2 - PROGRESS: at 37.92% examples, 78979 words/s, in_qsize 5, out_qsize 1\n",
      "2020-11-11 16:39:56,977 : INFO : EPOCH 2 - PROGRESS: at 38.45% examples, 78987 words/s, in_qsize 6, out_qsize 1\n",
      "2020-11-11 16:39:58,050 : INFO : EPOCH 2 - PROGRESS: at 38.78% examples, 78731 words/s, in_qsize 6, out_qsize 1\n",
      "2020-11-11 16:39:59,274 : INFO : EPOCH 2 - PROGRESS: at 39.05% examples, 78297 words/s, in_qsize 5, out_qsize 1\n",
      "2020-11-11 16:40:00,293 : INFO : EPOCH 2 - PROGRESS: at 39.48% examples, 78646 words/s, in_qsize 6, out_qsize 1\n",
      "2020-11-11 16:40:01,312 : INFO : EPOCH 2 - PROGRESS: at 39.84% examples, 78886 words/s, in_qsize 5, out_qsize 0\n",
      "2020-11-11 16:40:02,424 : INFO : EPOCH 2 - PROGRESS: at 40.25% examples, 79026 words/s, in_qsize 5, out_qsize 0\n",
      "2020-11-11 16:40:03,462 : INFO : EPOCH 2 - PROGRESS: at 40.42% examples, 78760 words/s, in_qsize 6, out_qsize 0\n",
      "2020-11-11 16:40:04,554 : INFO : EPOCH 2 - PROGRESS: at 40.58% examples, 78331 words/s, in_qsize 6, out_qsize 2\n",
      "2020-11-11 16:40:06,068 : INFO : EPOCH 2 - PROGRESS: at 40.84% examples, 78099 words/s, in_qsize 3, out_qsize 2\n",
      "2020-11-11 16:40:07,325 : INFO : EPOCH 2 - PROGRESS: at 41.11% examples, 77858 words/s, in_qsize 6, out_qsize 1\n",
      "2020-11-11 16:40:08,400 : INFO : EPOCH 2 - PROGRESS: at 41.42% examples, 77671 words/s, in_qsize 5, out_qsize 0\n",
      "2020-11-11 16:40:09,514 : INFO : EPOCH 2 - PROGRESS: at 41.62% examples, 77345 words/s, in_qsize 5, out_qsize 0\n",
      "2020-11-11 16:40:10,548 : INFO : EPOCH 2 - PROGRESS: at 41.83% examples, 76999 words/s, in_qsize 6, out_qsize 0\n",
      "2020-11-11 16:40:12,226 : INFO : EPOCH 2 - PROGRESS: at 42.06% examples, 76404 words/s, in_qsize 5, out_qsize 1\n",
      "2020-11-11 16:40:13,427 : INFO : EPOCH 2 - PROGRESS: at 42.28% examples, 76122 words/s, in_qsize 5, out_qsize 0\n",
      "2020-11-11 16:40:14,515 : INFO : EPOCH 2 - PROGRESS: at 42.94% examples, 76627 words/s, in_qsize 6, out_qsize 1\n",
      "2020-11-11 16:40:16,129 : INFO : EPOCH 2 - PROGRESS: at 43.20% examples, 76114 words/s, in_qsize 6, out_qsize 1\n",
      "2020-11-11 16:40:17,206 : INFO : EPOCH 2 - PROGRESS: at 43.42% examples, 75913 words/s, in_qsize 6, out_qsize 0\n",
      "2020-11-11 16:40:18,322 : INFO : EPOCH 2 - PROGRESS: at 43.69% examples, 75712 words/s, in_qsize 5, out_qsize 0\n",
      "2020-11-11 16:40:19,459 : INFO : EPOCH 2 - PROGRESS: at 43.91% examples, 75510 words/s, in_qsize 5, out_qsize 1\n",
      "2020-11-11 16:40:20,940 : INFO : EPOCH 2 - PROGRESS: at 44.08% examples, 75053 words/s, in_qsize 5, out_qsize 0\n",
      "2020-11-11 16:40:22,008 : INFO : EPOCH 2 - PROGRESS: at 44.18% examples, 74672 words/s, in_qsize 3, out_qsize 2\n",
      "2020-11-11 16:40:23,021 : INFO : EPOCH 2 - PROGRESS: at 44.52% examples, 74748 words/s, in_qsize 5, out_qsize 0\n",
      "2020-11-11 16:40:24,372 : INFO : EPOCH 2 - PROGRESS: at 44.71% examples, 74380 words/s, in_qsize 6, out_qsize 1\n",
      "2020-11-11 16:40:25,605 : INFO : EPOCH 2 - PROGRESS: at 45.03% examples, 74317 words/s, in_qsize 5, out_qsize 0\n"
     ]
    },
    {
     "name": "stderr",
     "output_type": "stream",
     "text": [
      "2020-11-11 16:40:26,669 : INFO : EPOCH 2 - PROGRESS: at 45.38% examples, 74239 words/s, in_qsize 6, out_qsize 1\n",
      "2020-11-11 16:40:27,960 : INFO : EPOCH 2 - PROGRESS: at 45.63% examples, 73898 words/s, in_qsize 3, out_qsize 2\n",
      "2020-11-11 16:40:29,197 : INFO : EPOCH 2 - PROGRESS: at 45.86% examples, 73657 words/s, in_qsize 5, out_qsize 0\n",
      "2020-11-11 16:40:30,247 : INFO : EPOCH 2 - PROGRESS: at 45.94% examples, 73313 words/s, in_qsize 4, out_qsize 1\n",
      "2020-11-11 16:40:31,535 : INFO : EPOCH 2 - PROGRESS: at 46.42% examples, 73491 words/s, in_qsize 6, out_qsize 0\n",
      "2020-11-11 16:40:32,440 : INFO : EPOCH 2 - PROGRESS: at 46.64% examples, 73209 words/s, in_qsize 5, out_qsize 1\n",
      "2020-11-11 16:40:33,572 : INFO : EPOCH 2 - PROGRESS: at 47.05% examples, 73169 words/s, in_qsize 6, out_qsize 0\n",
      "2020-11-11 16:40:34,959 : INFO : EPOCH 2 - PROGRESS: at 47.38% examples, 73014 words/s, in_qsize 6, out_qsize 0\n",
      "2020-11-11 16:40:36,192 : INFO : EPOCH 2 - PROGRESS: at 47.71% examples, 72858 words/s, in_qsize 3, out_qsize 2\n",
      "2020-11-11 16:40:37,252 : INFO : EPOCH 2 - PROGRESS: at 48.08% examples, 72704 words/s, in_qsize 5, out_qsize 0\n",
      "2020-11-11 16:40:38,350 : INFO : EPOCH 2 - PROGRESS: at 48.70% examples, 73124 words/s, in_qsize 6, out_qsize 0\n",
      "2020-11-11 16:40:39,644 : INFO : EPOCH 2 - PROGRESS: at 48.91% examples, 72823 words/s, in_qsize 4, out_qsize 1\n",
      "2020-11-11 16:40:40,756 : INFO : EPOCH 2 - PROGRESS: at 49.07% examples, 72627 words/s, in_qsize 5, out_qsize 0\n",
      "2020-11-11 16:40:41,987 : INFO : EPOCH 2 - PROGRESS: at 49.34% examples, 72426 words/s, in_qsize 6, out_qsize 0\n",
      "2020-11-11 16:40:43,108 : INFO : EPOCH 2 - PROGRESS: at 49.73% examples, 72427 words/s, in_qsize 6, out_qsize 0\n",
      "2020-11-11 16:40:44,364 : INFO : EPOCH 2 - PROGRESS: at 49.87% examples, 72027 words/s, in_qsize 5, out_qsize 0\n",
      "2020-11-11 16:40:45,561 : INFO : EPOCH 2 - PROGRESS: at 50.17% examples, 71954 words/s, in_qsize 5, out_qsize 0\n",
      "2020-11-11 16:40:46,658 : INFO : EPOCH 2 - PROGRESS: at 50.46% examples, 71828 words/s, in_qsize 5, out_qsize 0\n",
      "2020-11-11 16:40:47,785 : INFO : EPOCH 2 - PROGRESS: at 50.89% examples, 71878 words/s, in_qsize 6, out_qsize 2\n",
      "2020-11-11 16:40:48,976 : INFO : EPOCH 2 - PROGRESS: at 51.05% examples, 71520 words/s, in_qsize 6, out_qsize 0\n",
      "2020-11-11 16:40:50,348 : INFO : EPOCH 2 - PROGRESS: at 51.38% examples, 71332 words/s, in_qsize 5, out_qsize 1\n",
      "2020-11-11 16:40:51,615 : INFO : EPOCH 2 - PROGRESS: at 51.71% examples, 71129 words/s, in_qsize 5, out_qsize 2\n",
      "2020-11-11 16:40:52,791 : INFO : EPOCH 2 - PROGRESS: at 52.02% examples, 71035 words/s, in_qsize 6, out_qsize 0\n",
      "2020-11-11 16:40:53,869 : INFO : EPOCH 2 - PROGRESS: at 52.32% examples, 70979 words/s, in_qsize 5, out_qsize 0\n",
      "2020-11-11 16:40:55,126 : INFO : EPOCH 2 - PROGRESS: at 52.45% examples, 70620 words/s, in_qsize 6, out_qsize 2\n",
      "2020-11-11 16:40:56,369 : INFO : EPOCH 2 - PROGRESS: at 52.76% examples, 70446 words/s, in_qsize 3, out_qsize 2\n",
      "2020-11-11 16:40:57,594 : INFO : EPOCH 2 - PROGRESS: at 53.07% examples, 70283 words/s, in_qsize 4, out_qsize 1\n",
      "2020-11-11 16:40:58,649 : INFO : EPOCH 2 - PROGRESS: at 53.37% examples, 70183 words/s, in_qsize 5, out_qsize 1\n",
      "2020-11-11 16:40:59,775 : INFO : EPOCH 2 - PROGRESS: at 53.86% examples, 70271 words/s, in_qsize 6, out_qsize 1\n",
      "2020-11-11 16:41:00,988 : INFO : EPOCH 2 - PROGRESS: at 54.24% examples, 70212 words/s, in_qsize 6, out_qsize 1\n",
      "2020-11-11 16:41:02,051 : INFO : EPOCH 2 - PROGRESS: at 54.51% examples, 70103 words/s, in_qsize 3, out_qsize 2\n",
      "2020-11-11 16:41:03,495 : INFO : EPOCH 2 - PROGRESS: at 54.95% examples, 70085 words/s, in_qsize 6, out_qsize 2\n",
      "2020-11-11 16:41:06,006 : INFO : EPOCH 2 - PROGRESS: at 55.44% examples, 69642 words/s, in_qsize 6, out_qsize 0\n",
      "2020-11-11 16:41:07,316 : INFO : EPOCH 2 - PROGRESS: at 55.57% examples, 69291 words/s, in_qsize 6, out_qsize 2\n",
      "2020-11-11 16:41:08,534 : INFO : EPOCH 2 - PROGRESS: at 55.87% examples, 69094 words/s, in_qsize 5, out_qsize 0\n",
      "2020-11-11 16:41:09,941 : INFO : EPOCH 2 - PROGRESS: at 56.07% examples, 68771 words/s, in_qsize 6, out_qsize 0\n",
      "2020-11-11 16:41:10,992 : INFO : EPOCH 2 - PROGRESS: at 56.24% examples, 68591 words/s, in_qsize 4, out_qsize 1\n",
      "2020-11-11 16:41:12,337 : INFO : EPOCH 2 - PROGRESS: at 56.67% examples, 68621 words/s, in_qsize 6, out_qsize 0\n",
      "2020-11-11 16:41:13,520 : INFO : EPOCH 2 - PROGRESS: at 56.87% examples, 68392 words/s, in_qsize 6, out_qsize 1\n",
      "2020-11-11 16:41:15,557 : INFO : EPOCH 2 - PROGRESS: at 57.14% examples, 67959 words/s, in_qsize 4, out_qsize 1\n",
      "2020-11-11 16:41:16,856 : INFO : EPOCH 2 - PROGRESS: at 57.57% examples, 67941 words/s, in_qsize 5, out_qsize 0\n",
      "2020-11-11 16:41:17,943 : INFO : EPOCH 2 - PROGRESS: at 57.95% examples, 68021 words/s, in_qsize 6, out_qsize 0\n",
      "2020-11-11 16:41:19,362 : INFO : EPOCH 2 - PROGRESS: at 58.33% examples, 67975 words/s, in_qsize 6, out_qsize 0\n",
      "2020-11-11 16:41:20,433 : INFO : EPOCH 2 - PROGRESS: at 58.71% examples, 68002 words/s, in_qsize 4, out_qsize 0\n",
      "2020-11-11 16:41:21,542 : INFO : EPOCH 2 - PROGRESS: at 58.87% examples, 67764 words/s, in_qsize 5, out_qsize 0\n",
      "2020-11-11 16:41:22,571 : INFO : EPOCH 2 - PROGRESS: at 59.42% examples, 67992 words/s, in_qsize 6, out_qsize 1\n",
      "2020-11-11 16:41:23,615 : INFO : EPOCH 2 - PROGRESS: at 60.01% examples, 68120 words/s, in_qsize 3, out_qsize 2\n",
      "2020-11-11 16:41:24,970 : INFO : EPOCH 2 - PROGRESS: at 60.42% examples, 68080 words/s, in_qsize 4, out_qsize 1\n",
      "2020-11-11 16:41:26,199 : INFO : EPOCH 2 - PROGRESS: at 60.84% examples, 68102 words/s, in_qsize 4, out_qsize 1\n",
      "2020-11-11 16:41:27,208 : INFO : EPOCH 2 - PROGRESS: at 61.19% examples, 68100 words/s, in_qsize 5, out_qsize 2\n",
      "2020-11-11 16:41:28,437 : INFO : EPOCH 2 - PROGRESS: at 61.59% examples, 68115 words/s, in_qsize 6, out_qsize 2\n",
      "2020-11-11 16:41:29,720 : INFO : EPOCH 2 - PROGRESS: at 62.05% examples, 68114 words/s, in_qsize 5, out_qsize 0\n",
      "2020-11-11 16:41:30,727 : INFO : EPOCH 2 - PROGRESS: at 62.18% examples, 67920 words/s, in_qsize 5, out_qsize 0\n",
      "2020-11-11 16:41:32,274 : INFO : EPOCH 2 - PROGRESS: at 62.49% examples, 67685 words/s, in_qsize 5, out_qsize 2\n",
      "2020-11-11 16:41:33,433 : INFO : EPOCH 2 - PROGRESS: at 62.78% examples, 67586 words/s, in_qsize 6, out_qsize 1\n",
      "2020-11-11 16:41:34,709 : INFO : EPOCH 2 - PROGRESS: at 63.24% examples, 67589 words/s, in_qsize 4, out_qsize 1\n",
      "2020-11-11 16:41:35,848 : INFO : EPOCH 2 - PROGRESS: at 64.22% examples, 68059 words/s, in_qsize 6, out_qsize 2\n",
      "2020-11-11 16:41:36,906 : INFO : EPOCH 2 - PROGRESS: at 65.05% examples, 68408 words/s, in_qsize 5, out_qsize 0\n",
      "2020-11-11 16:41:37,973 : INFO : EPOCH 2 - PROGRESS: at 65.56% examples, 68513 words/s, in_qsize 4, out_qsize 1\n",
      "2020-11-11 16:41:39,092 : INFO : EPOCH 2 - PROGRESS: at 66.14% examples, 68702 words/s, in_qsize 6, out_qsize 0\n",
      "2020-11-11 16:41:40,120 : INFO : EPOCH 2 - PROGRESS: at 67.05% examples, 69060 words/s, in_qsize 5, out_qsize 0\n",
      "2020-11-11 16:41:41,177 : INFO : EPOCH 2 - PROGRESS: at 67.72% examples, 69272 words/s, in_qsize 6, out_qsize 1\n",
      "2020-11-11 16:41:42,259 : INFO : EPOCH 2 - PROGRESS: at 68.26% examples, 69463 words/s, in_qsize 6, out_qsize 1\n",
      "2020-11-11 16:41:43,290 : INFO : EPOCH 2 - PROGRESS: at 69.28% examples, 70084 words/s, in_qsize 6, out_qsize 1\n",
      "2020-11-11 16:41:44,443 : INFO : EPOCH 2 - PROGRESS: at 69.77% examples, 70153 words/s, in_qsize 6, out_qsize 0\n",
      "2020-11-11 16:41:45,544 : INFO : EPOCH 2 - PROGRESS: at 71.05% examples, 70875 words/s, in_qsize 6, out_qsize 1\n",
      "2020-11-11 16:41:46,623 : INFO : EPOCH 2 - PROGRESS: at 71.90% examples, 71225 words/s, in_qsize 6, out_qsize 0\n",
      "2020-11-11 16:41:47,749 : INFO : EPOCH 2 - PROGRESS: at 72.73% examples, 71565 words/s, in_qsize 5, out_qsize 2\n",
      "2020-11-11 16:41:48,751 : INFO : EPOCH 2 - PROGRESS: at 73.56% examples, 72058 words/s, in_qsize 6, out_qsize 0\n",
      "2020-11-11 16:41:49,801 : INFO : EPOCH 2 - PROGRESS: at 74.42% examples, 72462 words/s, in_qsize 6, out_qsize 0\n",
      "2020-11-11 16:41:50,812 : INFO : EPOCH 2 - PROGRESS: at 75.11% examples, 72747 words/s, in_qsize 6, out_qsize 0\n",
      "2020-11-11 16:41:52,040 : INFO : EPOCH 2 - PROGRESS: at 76.13% examples, 73260 words/s, in_qsize 4, out_qsize 1\n",
      "2020-11-11 16:41:53,040 : INFO : EPOCH 2 - PROGRESS: at 76.99% examples, 73763 words/s, in_qsize 6, out_qsize 1\n",
      "2020-11-11 16:41:54,095 : INFO : EPOCH 2 - PROGRESS: at 77.92% examples, 74351 words/s, in_qsize 6, out_qsize 0\n"
     ]
    },
    {
     "name": "stderr",
     "output_type": "stream",
     "text": [
      "2020-11-11 16:41:55,099 : INFO : EPOCH 2 - PROGRESS: at 78.85% examples, 74961 words/s, in_qsize 5, out_qsize 0\n",
      "2020-11-11 16:41:56,107 : INFO : EPOCH 2 - PROGRESS: at 79.55% examples, 75248 words/s, in_qsize 5, out_qsize 2\n",
      "2020-11-11 16:41:57,258 : INFO : EPOCH 2 - PROGRESS: at 80.70% examples, 75760 words/s, in_qsize 5, out_qsize 0\n",
      "2020-11-11 16:41:58,278 : INFO : EPOCH 2 - PROGRESS: at 82.05% examples, 76318 words/s, in_qsize 6, out_qsize 1\n",
      "2020-11-11 16:41:59,334 : INFO : EPOCH 2 - PROGRESS: at 83.02% examples, 76806 words/s, in_qsize 4, out_qsize 1\n",
      "2020-11-11 16:42:00,344 : INFO : EPOCH 2 - PROGRESS: at 83.92% examples, 77291 words/s, in_qsize 6, out_qsize 1\n",
      "2020-11-11 16:42:01,345 : INFO : EPOCH 2 - PROGRESS: at 85.17% examples, 77996 words/s, in_qsize 6, out_qsize 0\n",
      "2020-11-11 16:42:02,356 : INFO : EPOCH 2 - PROGRESS: at 86.10% examples, 78649 words/s, in_qsize 5, out_qsize 1\n",
      "2020-11-11 16:42:03,388 : INFO : EPOCH 2 - PROGRESS: at 87.12% examples, 79339 words/s, in_qsize 6, out_qsize 0\n",
      "2020-11-11 16:42:04,417 : INFO : EPOCH 2 - PROGRESS: at 87.99% examples, 79892 words/s, in_qsize 5, out_qsize 0\n",
      "2020-11-11 16:42:05,755 : INFO : EPOCH 2 - PROGRESS: at 88.63% examples, 80054 words/s, in_qsize 5, out_qsize 0\n",
      "2020-11-11 16:42:06,778 : INFO : EPOCH 2 - PROGRESS: at 89.78% examples, 80737 words/s, in_qsize 6, out_qsize 1\n",
      "2020-11-11 16:42:07,835 : INFO : EPOCH 2 - PROGRESS: at 91.20% examples, 81591 words/s, in_qsize 5, out_qsize 0\n",
      "2020-11-11 16:42:08,844 : INFO : EPOCH 2 - PROGRESS: at 92.18% examples, 82015 words/s, in_qsize 5, out_qsize 0\n",
      "2020-11-11 16:42:09,856 : INFO : EPOCH 2 - PROGRESS: at 93.74% examples, 82954 words/s, in_qsize 5, out_qsize 0\n",
      "2020-11-11 16:42:10,986 : INFO : EPOCH 2 - PROGRESS: at 94.28% examples, 83067 words/s, in_qsize 6, out_qsize 0\n",
      "2020-11-11 16:42:12,049 : INFO : EPOCH 2 - PROGRESS: at 95.18% examples, 83657 words/s, in_qsize 4, out_qsize 2\n",
      "2020-11-11 16:42:13,077 : INFO : EPOCH 2 - PROGRESS: at 96.18% examples, 84295 words/s, in_qsize 5, out_qsize 0\n",
      "2020-11-11 16:42:14,083 : INFO : EPOCH 2 - PROGRESS: at 97.49% examples, 85051 words/s, in_qsize 6, out_qsize 0\n",
      "2020-11-11 16:42:15,421 : INFO : EPOCH 2 - PROGRESS: at 98.65% examples, 85553 words/s, in_qsize 5, out_qsize 0\n",
      "2020-11-11 16:42:17,832 : INFO : EPOCH 2 - PROGRESS: at 99.12% examples, 85038 words/s, in_qsize 6, out_qsize 1\n",
      "2020-11-11 16:42:18,325 : INFO : worker thread finished; awaiting finish of 2 more threads\n",
      "2020-11-11 16:42:18,359 : INFO : worker thread finished; awaiting finish of 1 more threads\n",
      "2020-11-11 16:42:18,366 : INFO : worker thread finished; awaiting finish of 0 more threads\n",
      "2020-11-11 16:42:18,367 : INFO : EPOCH - 2 : training on 21544694 raw words (21317593 effective words) took 249.1s, 85593 effective words/s\n",
      "2020-11-11 16:42:19,389 : INFO : EPOCH 3 - PROGRESS: at 1.48% examples, 431008 words/s, in_qsize 6, out_qsize 0\n",
      "2020-11-11 16:42:20,406 : INFO : EPOCH 3 - PROGRESS: at 2.31% examples, 362747 words/s, in_qsize 5, out_qsize 0\n",
      "2020-11-11 16:42:21,450 : INFO : EPOCH 3 - PROGRESS: at 3.18% examples, 328476 words/s, in_qsize 5, out_qsize 0\n",
      "2020-11-11 16:42:23,430 : INFO : EPOCH 3 - PROGRESS: at 4.26% examples, 266675 words/s, in_qsize 5, out_qsize 0\n",
      "2020-11-11 16:42:24,434 : INFO : EPOCH 3 - PROGRESS: at 4.90% examples, 262542 words/s, in_qsize 4, out_qsize 1\n",
      "2020-11-11 16:42:25,448 : INFO : EPOCH 3 - PROGRESS: at 5.59% examples, 261948 words/s, in_qsize 6, out_qsize 0\n",
      "2020-11-11 16:42:26,455 : INFO : EPOCH 3 - PROGRESS: at 8.23% examples, 269378 words/s, in_qsize 6, out_qsize 0\n",
      "2020-11-11 16:42:27,475 : INFO : EPOCH 3 - PROGRESS: at 9.45% examples, 271874 words/s, in_qsize 5, out_qsize 0\n",
      "2020-11-11 16:42:28,530 : INFO : EPOCH 3 - PROGRESS: at 10.13% examples, 264234 words/s, in_qsize 3, out_qsize 2\n",
      "2020-11-11 16:42:29,551 : INFO : EPOCH 3 - PROGRESS: at 11.07% examples, 264738 words/s, in_qsize 5, out_qsize 0\n",
      "2020-11-11 16:42:30,632 : INFO : EPOCH 3 - PROGRESS: at 11.94% examples, 261018 words/s, in_qsize 5, out_qsize 0\n",
      "2020-11-11 16:42:33,301 : INFO : EPOCH 3 - PROGRESS: at 11.98% examples, 214956 words/s, in_qsize 6, out_qsize 0\n",
      "2020-11-11 16:42:34,315 : INFO : EPOCH 3 - PROGRESS: at 13.57% examples, 222485 words/s, in_qsize 6, out_qsize 0\n",
      "2020-11-11 16:42:35,399 : INFO : EPOCH 3 - PROGRESS: at 15.03% examples, 227615 words/s, in_qsize 5, out_qsize 0\n",
      "2020-11-11 16:42:36,403 : INFO : EPOCH 3 - PROGRESS: at 15.71% examples, 225381 words/s, in_qsize 5, out_qsize 0\n",
      "2020-11-11 16:42:37,416 : INFO : EPOCH 3 - PROGRESS: at 17.99% examples, 229036 words/s, in_qsize 5, out_qsize 0\n",
      "2020-11-11 16:42:38,435 : INFO : EPOCH 3 - PROGRESS: at 19.27% examples, 231438 words/s, in_qsize 6, out_qsize 0\n",
      "2020-11-11 16:42:40,314 : INFO : EPOCH 3 - PROGRESS: at 21.07% examples, 224930 words/s, in_qsize 5, out_qsize 0\n",
      "2020-11-11 16:42:41,324 : INFO : EPOCH 3 - PROGRESS: at 22.01% examples, 222667 words/s, in_qsize 6, out_qsize 0\n",
      "2020-11-11 16:42:42,336 : INFO : EPOCH 3 - PROGRESS: at 23.08% examples, 221741 words/s, in_qsize 6, out_qsize 0\n",
      "2020-11-11 16:42:43,373 : INFO : EPOCH 3 - PROGRESS: at 24.63% examples, 225437 words/s, in_qsize 5, out_qsize 0\n",
      "2020-11-11 16:42:44,419 : INFO : EPOCH 3 - PROGRESS: at 26.13% examples, 227789 words/s, in_qsize 6, out_qsize 0\n",
      "2020-11-11 16:42:45,421 : INFO : EPOCH 3 - PROGRESS: at 27.92% examples, 231882 words/s, in_qsize 5, out_qsize 0\n",
      "2020-11-11 16:42:46,428 : INFO : EPOCH 3 - PROGRESS: at 29.62% examples, 235453 words/s, in_qsize 6, out_qsize 0\n",
      "2020-11-11 16:42:47,460 : INFO : EPOCH 3 - PROGRESS: at 31.21% examples, 237693 words/s, in_qsize 6, out_qsize 1\n",
      "2020-11-11 16:42:48,610 : INFO : EPOCH 3 - PROGRESS: at 32.39% examples, 238148 words/s, in_qsize 5, out_qsize 0\n",
      "2020-11-11 16:42:49,818 : INFO : EPOCH 3 - PROGRESS: at 33.16% examples, 234877 words/s, in_qsize 6, out_qsize 1\n",
      "2020-11-11 16:42:50,826 : INFO : EPOCH 3 - PROGRESS: at 34.15% examples, 234470 words/s, in_qsize 5, out_qsize 0\n",
      "2020-11-11 16:42:52,101 : INFO : EPOCH 3 - PROGRESS: at 34.75% examples, 229895 words/s, in_qsize 5, out_qsize 1\n",
      "2020-11-11 16:42:53,609 : INFO : EPOCH 3 - PROGRESS: at 36.16% examples, 229305 words/s, in_qsize 5, out_qsize 0\n",
      "2020-11-11 16:42:54,783 : INFO : EPOCH 3 - PROGRESS: at 37.17% examples, 228731 words/s, in_qsize 5, out_qsize 0\n",
      "2020-11-11 16:42:55,784 : INFO : EPOCH 3 - PROGRESS: at 38.93% examples, 229704 words/s, in_qsize 5, out_qsize 0\n",
      "2020-11-11 16:42:56,798 : INFO : EPOCH 3 - PROGRESS: at 40.18% examples, 232109 words/s, in_qsize 5, out_qsize 0\n",
      "2020-11-11 16:42:57,834 : INFO : EPOCH 3 - PROGRESS: at 41.40% examples, 234449 words/s, in_qsize 6, out_qsize 0\n",
      "2020-11-11 16:42:58,905 : INFO : EPOCH 3 - PROGRESS: at 42.58% examples, 235427 words/s, in_qsize 5, out_qsize 1\n",
      "2020-11-11 16:43:00,219 : INFO : EPOCH 3 - PROGRESS: at 43.90% examples, 234811 words/s, in_qsize 6, out_qsize 0\n",
      "2020-11-11 16:43:01,223 : INFO : EPOCH 3 - PROGRESS: at 44.52% examples, 233317 words/s, in_qsize 6, out_qsize 0\n",
      "2020-11-11 16:43:02,285 : INFO : EPOCH 3 - PROGRESS: at 45.84% examples, 234724 words/s, in_qsize 4, out_qsize 1\n",
      "2020-11-11 16:43:03,298 : INFO : EPOCH 3 - PROGRESS: at 46.56% examples, 233082 words/s, in_qsize 5, out_qsize 0\n",
      "2020-11-11 16:43:04,346 : INFO : EPOCH 3 - PROGRESS: at 48.18% examples, 234665 words/s, in_qsize 5, out_qsize 1\n",
      "2020-11-11 16:43:05,373 : INFO : EPOCH 3 - PROGRESS: at 48.95% examples, 233419 words/s, in_qsize 5, out_qsize 1\n",
      "2020-11-11 16:43:07,820 : INFO : EPOCH 3 - PROGRESS: at 49.73% examples, 225336 words/s, in_qsize 3, out_qsize 2\n",
      "2020-11-11 16:43:08,895 : INFO : EPOCH 3 - PROGRESS: at 50.80% examples, 225122 words/s, in_qsize 5, out_qsize 0\n",
      "2020-11-11 16:43:09,935 : INFO : EPOCH 3 - PROGRESS: at 51.79% examples, 224332 words/s, in_qsize 4, out_qsize 1\n",
      "2020-11-11 16:43:10,957 : INFO : EPOCH 3 - PROGRESS: at 53.01% examples, 224790 words/s, in_qsize 6, out_qsize 0\n",
      "2020-11-11 16:43:12,079 : INFO : EPOCH 3 - PROGRESS: at 54.19% examples, 224311 words/s, in_qsize 6, out_qsize 0\n",
      "2020-11-11 16:43:13,079 : INFO : EPOCH 3 - PROGRESS: at 55.04% examples, 223561 words/s, in_qsize 6, out_qsize 1\n",
      "2020-11-11 16:43:14,107 : INFO : EPOCH 3 - PROGRESS: at 56.55% examples, 224876 words/s, in_qsize 5, out_qsize 0\n",
      "2020-11-11 16:43:15,139 : INFO : EPOCH 3 - PROGRESS: at 57.95% examples, 226088 words/s, in_qsize 6, out_qsize 1\n"
     ]
    },
    {
     "name": "stderr",
     "output_type": "stream",
     "text": [
      "2020-11-11 16:43:16,150 : INFO : EPOCH 3 - PROGRESS: at 58.62% examples, 224657 words/s, in_qsize 5, out_qsize 2\n",
      "2020-11-11 16:43:17,329 : INFO : EPOCH 3 - PROGRESS: at 59.83% examples, 224065 words/s, in_qsize 6, out_qsize 0\n",
      "2020-11-11 16:43:18,344 : INFO : EPOCH 3 - PROGRESS: at 60.54% examples, 222648 words/s, in_qsize 5, out_qsize 2\n",
      "2020-11-11 16:43:19,417 : INFO : EPOCH 3 - PROGRESS: at 61.01% examples, 220181 words/s, in_qsize 6, out_qsize 1\n",
      "2020-11-11 16:43:20,765 : INFO : EPOCH 3 - PROGRESS: at 61.44% examples, 216977 words/s, in_qsize 4, out_qsize 1\n",
      "2020-11-11 16:43:21,822 : INFO : EPOCH 3 - PROGRESS: at 62.94% examples, 217917 words/s, in_qsize 5, out_qsize 0\n",
      "2020-11-11 16:43:22,823 : INFO : EPOCH 3 - PROGRESS: at 65.05% examples, 220388 words/s, in_qsize 6, out_qsize 0\n",
      "2020-11-11 16:43:25,290 : INFO : EPOCH 3 - PROGRESS: at 66.01% examples, 214981 words/s, in_qsize 6, out_qsize 0\n",
      "2020-11-11 16:43:26,316 : INFO : EPOCH 3 - PROGRESS: at 66.62% examples, 213330 words/s, in_qsize 6, out_qsize 2\n",
      "2020-11-11 16:43:27,493 : INFO : EPOCH 3 - PROGRESS: at 67.36% examples, 211381 words/s, in_qsize 5, out_qsize 0\n",
      "2020-11-11 16:43:28,800 : INFO : EPOCH 3 - PROGRESS: at 68.05% examples, 209529 words/s, in_qsize 5, out_qsize 0\n",
      "2020-11-11 16:43:29,818 : INFO : EPOCH 3 - PROGRESS: at 69.58% examples, 210738 words/s, in_qsize 5, out_qsize 0\n",
      "2020-11-11 16:43:30,843 : INFO : EPOCH 3 - PROGRESS: at 70.56% examples, 210314 words/s, in_qsize 4, out_qsize 0\n",
      "2020-11-11 16:43:31,855 : INFO : EPOCH 3 - PROGRESS: at 72.13% examples, 211210 words/s, in_qsize 5, out_qsize 0\n",
      "2020-11-11 16:43:33,244 : INFO : EPOCH 3 - PROGRESS: at 72.73% examples, 208832 words/s, in_qsize 4, out_qsize 1\n",
      "2020-11-11 16:43:34,264 : INFO : EPOCH 3 - PROGRESS: at 73.95% examples, 209396 words/s, in_qsize 4, out_qsize 1\n",
      "2020-11-11 16:43:35,537 : INFO : EPOCH 3 - PROGRESS: at 74.87% examples, 208223 words/s, in_qsize 5, out_qsize 0\n",
      "2020-11-11 16:43:36,539 : INFO : EPOCH 3 - PROGRESS: at 75.46% examples, 207059 words/s, in_qsize 5, out_qsize 0\n",
      "2020-11-11 16:43:37,750 : INFO : EPOCH 3 - PROGRESS: at 76.56% examples, 206832 words/s, in_qsize 4, out_qsize 1\n",
      "2020-11-11 16:43:38,837 : INFO : EPOCH 3 - PROGRESS: at 77.61% examples, 206857 words/s, in_qsize 4, out_qsize 1\n",
      "2020-11-11 16:43:39,858 : INFO : EPOCH 3 - PROGRESS: at 78.11% examples, 205844 words/s, in_qsize 4, out_qsize 1\n",
      "2020-11-11 16:43:40,876 : INFO : EPOCH 3 - PROGRESS: at 78.99% examples, 205530 words/s, in_qsize 6, out_qsize 0\n",
      "2020-11-11 16:43:41,886 : INFO : EPOCH 3 - PROGRESS: at 80.76% examples, 206939 words/s, in_qsize 5, out_qsize 0\n",
      "2020-11-11 16:43:43,728 : INFO : EPOCH 3 - PROGRESS: at 82.65% examples, 206118 words/s, in_qsize 5, out_qsize 1\n",
      "2020-11-11 16:43:44,763 : INFO : EPOCH 3 - PROGRESS: at 84.48% examples, 207969 words/s, in_qsize 5, out_qsize 0\n",
      "2020-11-11 16:43:45,845 : INFO : EPOCH 3 - PROGRESS: at 85.26% examples, 207252 words/s, in_qsize 5, out_qsize 0\n",
      "2020-11-11 16:43:46,903 : INFO : EPOCH 3 - PROGRESS: at 86.15% examples, 207181 words/s, in_qsize 4, out_qsize 1\n",
      "2020-11-11 16:43:48,972 : INFO : EPOCH 3 - PROGRESS: at 86.88% examples, 204380 words/s, in_qsize 6, out_qsize 0\n",
      "2020-11-11 16:43:50,056 : INFO : EPOCH 3 - PROGRESS: at 87.99% examples, 204904 words/s, in_qsize 5, out_qsize 2\n",
      "2020-11-11 16:43:51,505 : INFO : EPOCH 3 - PROGRESS: at 88.76% examples, 203592 words/s, in_qsize 6, out_qsize 1\n",
      "2020-11-11 16:43:52,686 : INFO : EPOCH 3 - PROGRESS: at 89.67% examples, 203054 words/s, in_qsize 5, out_qsize 0\n",
      "2020-11-11 16:43:53,934 : INFO : EPOCH 3 - PROGRESS: at 90.39% examples, 201960 words/s, in_qsize 4, out_qsize 1\n",
      "2020-11-11 16:43:55,095 : INFO : EPOCH 3 - PROGRESS: at 90.93% examples, 200637 words/s, in_qsize 5, out_qsize 0\n",
      "2020-11-11 16:43:56,119 : INFO : EPOCH 3 - PROGRESS: at 91.47% examples, 199633 words/s, in_qsize 6, out_qsize 0\n",
      "2020-11-11 16:43:57,163 : INFO : EPOCH 3 - PROGRESS: at 91.77% examples, 198105 words/s, in_qsize 6, out_qsize 1\n",
      "2020-11-11 16:43:58,498 : INFO : EPOCH 3 - PROGRESS: at 92.80% examples, 197486 words/s, in_qsize 5, out_qsize 0\n",
      "2020-11-11 16:43:59,811 : INFO : EPOCH 3 - PROGRESS: at 93.59% examples, 196461 words/s, in_qsize 5, out_qsize 0\n",
      "2020-11-11 16:44:00,827 : INFO : EPOCH 3 - PROGRESS: at 94.77% examples, 197190 words/s, in_qsize 6, out_qsize 0\n",
      "2020-11-11 16:44:01,946 : INFO : EPOCH 3 - PROGRESS: at 95.36% examples, 196428 words/s, in_qsize 4, out_qsize 1\n",
      "2020-11-11 16:44:02,997 : INFO : EPOCH 3 - PROGRESS: at 96.59% examples, 197207 words/s, in_qsize 4, out_qsize 1\n",
      "2020-11-11 16:44:04,056 : INFO : EPOCH 3 - PROGRESS: at 98.36% examples, 198629 words/s, in_qsize 5, out_qsize 0\n",
      "2020-11-11 16:44:05,012 : INFO : worker thread finished; awaiting finish of 2 more threads\n",
      "2020-11-11 16:44:05,053 : INFO : worker thread finished; awaiting finish of 1 more threads\n",
      "2020-11-11 16:44:05,079 : INFO : EPOCH 3 - PROGRESS: at 100.00% examples, 199803 words/s, in_qsize 0, out_qsize 1\n",
      "2020-11-11 16:44:05,080 : INFO : worker thread finished; awaiting finish of 0 more threads\n",
      "2020-11-11 16:44:05,080 : INFO : EPOCH - 3 : training on 21544694 raw words (21317386 effective words) took 106.7s, 199800 effective words/s\n",
      "2020-11-11 16:44:06,132 : INFO : EPOCH 4 - PROGRESS: at 0.68% examples, 278930 words/s, in_qsize 4, out_qsize 1\n",
      "2020-11-11 16:44:07,164 : INFO : EPOCH 4 - PROGRESS: at 2.02% examples, 308140 words/s, in_qsize 3, out_qsize 2\n",
      "2020-11-11 16:44:08,175 : INFO : EPOCH 4 - PROGRESS: at 3.11% examples, 321549 words/s, in_qsize 6, out_qsize 0\n",
      "2020-11-11 16:44:09,177 : INFO : EPOCH 4 - PROGRESS: at 3.64% examples, 279197 words/s, in_qsize 5, out_qsize 0\n",
      "2020-11-11 16:44:10,182 : INFO : EPOCH 4 - PROGRESS: at 4.32% examples, 268516 words/s, in_qsize 5, out_qsize 0\n",
      "2020-11-11 16:44:11,457 : INFO : EPOCH 4 - PROGRESS: at 4.89% examples, 249574 words/s, in_qsize 6, out_qsize 0\n",
      "2020-11-11 16:44:12,562 : INFO : EPOCH 4 - PROGRESS: at 5.60% examples, 249150 words/s, in_qsize 5, out_qsize 0\n",
      "2020-11-11 16:44:13,597 : INFO : EPOCH 4 - PROGRESS: at 7.57% examples, 236952 words/s, in_qsize 6, out_qsize 0\n",
      "2020-11-11 16:44:14,615 : INFO : EPOCH 4 - PROGRESS: at 8.15% examples, 226503 words/s, in_qsize 4, out_qsize 1\n",
      "2020-11-11 16:44:15,736 : INFO : EPOCH 4 - PROGRESS: at 9.32% examples, 229576 words/s, in_qsize 5, out_qsize 0\n",
      "2020-11-11 16:44:16,864 : INFO : EPOCH 4 - PROGRESS: at 10.02% examples, 225404 words/s, in_qsize 5, out_qsize 0\n",
      "2020-11-11 16:44:18,022 : INFO : EPOCH 4 - PROGRESS: at 10.24% examples, 209692 words/s, in_qsize 6, out_qsize 2\n",
      "2020-11-11 16:44:19,047 : INFO : EPOCH 4 - PROGRESS: at 10.84% examples, 206653 words/s, in_qsize 5, out_qsize 1\n",
      "2020-11-11 16:44:20,056 : INFO : EPOCH 4 - PROGRESS: at 11.77% examples, 211183 words/s, in_qsize 6, out_qsize 0\n",
      "2020-11-11 16:44:21,184 : INFO : EPOCH 4 - PROGRESS: at 12.48% examples, 206000 words/s, in_qsize 4, out_qsize 1\n",
      "2020-11-11 16:44:23,265 : INFO : EPOCH 4 - PROGRESS: at 13.45% examples, 194013 words/s, in_qsize 6, out_qsize 1\n",
      "2020-11-11 16:44:24,306 : INFO : EPOCH 4 - PROGRESS: at 14.69% examples, 197097 words/s, in_qsize 5, out_qsize 0\n",
      "2020-11-11 16:44:25,341 : INFO : EPOCH 4 - PROGRESS: at 15.52% examples, 198298 words/s, in_qsize 6, out_qsize 0\n",
      "2020-11-11 16:44:26,358 : INFO : EPOCH 4 - PROGRESS: at 17.42% examples, 201085 words/s, in_qsize 5, out_qsize 0\n",
      "2020-11-11 16:44:27,396 : INFO : EPOCH 4 - PROGRESS: at 18.62% examples, 201980 words/s, in_qsize 5, out_qsize 0\n",
      "2020-11-11 16:44:28,433 : INFO : EPOCH 4 - PROGRESS: at 19.56% examples, 201398 words/s, in_qsize 5, out_qsize 0\n",
      "2020-11-11 16:44:29,730 : INFO : EPOCH 4 - PROGRESS: at 20.90% examples, 199050 words/s, in_qsize 6, out_qsize 0\n",
      "2020-11-11 16:44:30,760 : INFO : EPOCH 4 - PROGRESS: at 22.21% examples, 200179 words/s, in_qsize 6, out_qsize 0\n",
      "2020-11-11 16:44:32,635 : INFO : EPOCH 4 - PROGRESS: at 23.32% examples, 194264 words/s, in_qsize 6, out_qsize 0\n",
      "2020-11-11 16:44:33,639 : INFO : EPOCH 4 - PROGRESS: at 24.63% examples, 197371 words/s, in_qsize 6, out_qsize 0\n",
      "2020-11-11 16:44:34,702 : INFO : EPOCH 4 - PROGRESS: at 25.43% examples, 195888 words/s, in_qsize 6, out_qsize 0\n",
      "2020-11-11 16:44:35,708 : INFO : EPOCH 4 - PROGRESS: at 26.48% examples, 195643 words/s, in_qsize 5, out_qsize 0\n"
     ]
    },
    {
     "name": "stderr",
     "output_type": "stream",
     "text": [
      "2020-11-11 16:44:38,345 : INFO : EPOCH 4 - PROGRESS: at 27.45% examples, 185499 words/s, in_qsize 4, out_qsize 1\n",
      "2020-11-11 16:44:39,482 : INFO : EPOCH 4 - PROGRESS: at 28.36% examples, 185096 words/s, in_qsize 3, out_qsize 2\n",
      "2020-11-11 16:44:40,497 : INFO : EPOCH 4 - PROGRESS: at 29.52% examples, 185972 words/s, in_qsize 6, out_qsize 0\n",
      "2020-11-11 16:44:41,541 : INFO : EPOCH 4 - PROGRESS: at 30.77% examples, 186994 words/s, in_qsize 5, out_qsize 0\n",
      "2020-11-11 16:44:42,571 : INFO : EPOCH 4 - PROGRESS: at 31.62% examples, 186983 words/s, in_qsize 4, out_qsize 1\n",
      "2020-11-11 16:44:46,726 : INFO : EPOCH 4 - PROGRESS: at 32.51% examples, 173759 words/s, in_qsize 6, out_qsize 1\n",
      "2020-11-11 16:44:47,732 : INFO : EPOCH 4 - PROGRESS: at 33.06% examples, 172732 words/s, in_qsize 6, out_qsize 0\n",
      "2020-11-11 16:44:48,797 : INFO : EPOCH 4 - PROGRESS: at 33.84% examples, 172496 words/s, in_qsize 6, out_qsize 0\n",
      "2020-11-11 16:44:49,816 : INFO : EPOCH 4 - PROGRESS: at 34.80% examples, 173919 words/s, in_qsize 5, out_qsize 0\n",
      "2020-11-11 16:44:50,833 : INFO : EPOCH 4 - PROGRESS: at 35.45% examples, 173177 words/s, in_qsize 5, out_qsize 0\n",
      "2020-11-11 16:44:51,878 : INFO : EPOCH 4 - PROGRESS: at 35.80% examples, 171047 words/s, in_qsize 5, out_qsize 0\n",
      "2020-11-11 16:44:54,146 : INFO : EPOCH 4 - PROGRESS: at 36.55% examples, 166890 words/s, in_qsize 6, out_qsize 1\n",
      "2020-11-11 16:44:55,182 : INFO : EPOCH 4 - PROGRESS: at 38.11% examples, 168658 words/s, in_qsize 6, out_qsize 0\n",
      "2020-11-11 16:44:56,243 : INFO : EPOCH 4 - PROGRESS: at 38.82% examples, 167587 words/s, in_qsize 5, out_qsize 0\n",
      "2020-11-11 16:44:57,253 : INFO : EPOCH 4 - PROGRESS: at 39.55% examples, 167747 words/s, in_qsize 4, out_qsize 1\n",
      "2020-11-11 16:44:58,269 : INFO : EPOCH 4 - PROGRESS: at 40.24% examples, 167870 words/s, in_qsize 6, out_qsize 0\n",
      "2020-11-11 16:44:59,292 : INFO : EPOCH 4 - PROGRESS: at 40.96% examples, 168863 words/s, in_qsize 5, out_qsize 0\n",
      "2020-11-11 16:45:00,309 : INFO : EPOCH 4 - PROGRESS: at 41.78% examples, 168923 words/s, in_qsize 5, out_qsize 0\n",
      "2020-11-11 16:45:04,983 : INFO : EPOCH 4 - PROGRESS: at 41.95% examples, 156224 words/s, in_qsize 6, out_qsize 0\n",
      "2020-11-11 16:45:06,086 : INFO : EPOCH 4 - PROGRESS: at 42.36% examples, 155445 words/s, in_qsize 6, out_qsize 1\n",
      "2020-11-11 16:45:07,144 : INFO : EPOCH 4 - PROGRESS: at 43.79% examples, 157866 words/s, in_qsize 3, out_qsize 2\n",
      "2020-11-11 16:45:08,207 : INFO : EPOCH 4 - PROGRESS: at 44.92% examples, 160040 words/s, in_qsize 6, out_qsize 2\n",
      "2020-11-11 16:45:09,229 : INFO : EPOCH 4 - PROGRESS: at 45.97% examples, 161126 words/s, in_qsize 5, out_qsize 0\n",
      "2020-11-11 16:45:10,310 : INFO : EPOCH 4 - PROGRESS: at 46.82% examples, 161135 words/s, in_qsize 6, out_qsize 1\n",
      "2020-11-11 16:45:11,317 : INFO : EPOCH 4 - PROGRESS: at 47.85% examples, 161993 words/s, in_qsize 4, out_qsize 1\n",
      "2020-11-11 16:45:12,536 : INFO : EPOCH 4 - PROGRESS: at 48.70% examples, 161612 words/s, in_qsize 5, out_qsize 0\n",
      "2020-11-11 16:45:13,614 : INFO : EPOCH 4 - PROGRESS: at 49.30% examples, 161256 words/s, in_qsize 5, out_qsize 0\n",
      "2020-11-11 16:45:14,642 : INFO : EPOCH 4 - PROGRESS: at 49.87% examples, 160598 words/s, in_qsize 6, out_qsize 2\n",
      "2020-11-11 16:45:15,728 : INFO : EPOCH 4 - PROGRESS: at 50.51% examples, 160157 words/s, in_qsize 4, out_qsize 1\n",
      "2020-11-11 16:45:16,761 : INFO : EPOCH 4 - PROGRESS: at 51.50% examples, 160572 words/s, in_qsize 6, out_qsize 0\n",
      "2020-11-11 16:45:18,164 : INFO : EPOCH 4 - PROGRESS: at 51.55% examples, 157625 words/s, in_qsize 6, out_qsize 0\n",
      "2020-11-11 16:45:19,339 : INFO : EPOCH 4 - PROGRESS: at 52.39% examples, 157597 words/s, in_qsize 6, out_qsize 0\n",
      "2020-11-11 16:45:20,376 : INFO : EPOCH 4 - PROGRESS: at 53.23% examples, 157499 words/s, in_qsize 4, out_qsize 2\n",
      "2020-11-11 16:45:21,406 : INFO : EPOCH 4 - PROGRESS: at 53.82% examples, 156854 words/s, in_qsize 6, out_qsize 1\n",
      "2020-11-11 16:45:23,221 : INFO : EPOCH 4 - PROGRESS: at 55.13% examples, 156765 words/s, in_qsize 6, out_qsize 0\n",
      "2020-11-11 16:45:24,236 : INFO : EPOCH 4 - PROGRESS: at 56.82% examples, 159075 words/s, in_qsize 5, out_qsize 0\n",
      "2020-11-11 16:45:25,276 : INFO : EPOCH 4 - PROGRESS: at 57.76% examples, 159543 words/s, in_qsize 4, out_qsize 1\n",
      "2020-11-11 16:45:26,711 : INFO : EPOCH 4 - PROGRESS: at 58.53% examples, 158775 words/s, in_qsize 6, out_qsize 1\n",
      "2020-11-11 16:45:27,714 : INFO : EPOCH 4 - PROGRESS: at 60.00% examples, 160207 words/s, in_qsize 6, out_qsize 2\n",
      "2020-11-11 16:45:29,762 : INFO : EPOCH 4 - PROGRESS: at 60.54% examples, 157681 words/s, in_qsize 5, out_qsize 2\n",
      "2020-11-11 16:45:30,866 : INFO : EPOCH 4 - PROGRESS: at 61.34% examples, 157467 words/s, in_qsize 5, out_qsize 0\n",
      "2020-11-11 16:45:31,876 : INFO : EPOCH 4 - PROGRESS: at 62.41% examples, 158100 words/s, in_qsize 6, out_qsize 1\n",
      "2020-11-11 16:45:32,887 : INFO : EPOCH 4 - PROGRESS: at 63.24% examples, 158141 words/s, in_qsize 5, out_qsize 0\n",
      "2020-11-11 16:45:33,896 : INFO : EPOCH 4 - PROGRESS: at 64.35% examples, 158521 words/s, in_qsize 6, out_qsize 0\n",
      "2020-11-11 16:45:34,960 : INFO : EPOCH 4 - PROGRESS: at 65.36% examples, 158779 words/s, in_qsize 6, out_qsize 0\n",
      "2020-11-11 16:45:36,741 : INFO : EPOCH 4 - PROGRESS: at 66.49% examples, 157917 words/s, in_qsize 5, out_qsize 0\n",
      "2020-11-11 16:45:37,778 : INFO : EPOCH 4 - PROGRESS: at 67.40% examples, 157722 words/s, in_qsize 5, out_qsize 0\n",
      "2020-11-11 16:45:39,218 : INFO : EPOCH 4 - PROGRESS: at 67.95% examples, 156557 words/s, in_qsize 5, out_qsize 0\n",
      "2020-11-11 16:45:40,274 : INFO : EPOCH 4 - PROGRESS: at 68.68% examples, 156331 words/s, in_qsize 6, out_qsize 0\n",
      "2020-11-11 16:45:41,278 : INFO : EPOCH 4 - PROGRESS: at 69.45% examples, 156225 words/s, in_qsize 6, out_qsize 0\n",
      "2020-11-11 16:45:42,305 : INFO : EPOCH 4 - PROGRESS: at 70.37% examples, 156366 words/s, in_qsize 5, out_qsize 0\n",
      "2020-11-11 16:45:43,327 : INFO : EPOCH 4 - PROGRESS: at 71.67% examples, 157080 words/s, in_qsize 5, out_qsize 0\n",
      "2020-11-11 16:45:44,370 : INFO : EPOCH 4 - PROGRESS: at 72.88% examples, 157767 words/s, in_qsize 6, out_qsize 0\n",
      "2020-11-11 16:45:45,373 : INFO : EPOCH 4 - PROGRESS: at 74.17% examples, 158846 words/s, in_qsize 6, out_qsize 0\n",
      "2020-11-11 16:45:46,380 : INFO : EPOCH 4 - PROGRESS: at 75.70% examples, 160246 words/s, in_qsize 5, out_qsize 0\n",
      "2020-11-11 16:45:47,408 : INFO : EPOCH 4 - PROGRESS: at 76.10% examples, 159396 words/s, in_qsize 4, out_qsize 1\n",
      "2020-11-11 16:45:48,717 : INFO : EPOCH 4 - PROGRESS: at 76.84% examples, 158984 words/s, in_qsize 6, out_qsize 0\n",
      "2020-11-11 16:45:49,767 : INFO : EPOCH 4 - PROGRESS: at 77.87% examples, 159583 words/s, in_qsize 5, out_qsize 0\n",
      "2020-11-11 16:45:50,851 : INFO : EPOCH 4 - PROGRESS: at 78.77% examples, 159865 words/s, in_qsize 4, out_qsize 1\n",
      "2020-11-11 16:45:51,863 : INFO : EPOCH 4 - PROGRESS: at 80.03% examples, 160754 words/s, in_qsize 5, out_qsize 0\n",
      "2020-11-11 16:45:52,863 : INFO : EPOCH 4 - PROGRESS: at 81.95% examples, 161974 words/s, in_qsize 5, out_qsize 0\n",
      "2020-11-11 16:45:54,115 : INFO : EPOCH 4 - PROGRESS: at 82.60% examples, 161265 words/s, in_qsize 5, out_qsize 0\n",
      "2020-11-11 16:45:55,116 : INFO : EPOCH 4 - PROGRESS: at 82.90% examples, 160329 words/s, in_qsize 6, out_qsize 0\n",
      "2020-11-11 16:45:56,318 : INFO : EPOCH 4 - PROGRESS: at 83.58% examples, 159946 words/s, in_qsize 4, out_qsize 1\n",
      "2020-11-11 16:45:57,321 : INFO : EPOCH 4 - PROGRESS: at 84.91% examples, 160842 words/s, in_qsize 5, out_qsize 0\n",
      "2020-11-11 16:45:58,401 : INFO : EPOCH 4 - PROGRESS: at 86.25% examples, 162120 words/s, in_qsize 6, out_qsize 0\n",
      "2020-11-11 16:45:59,412 : INFO : EPOCH 4 - PROGRESS: at 87.11% examples, 162464 words/s, in_qsize 5, out_qsize 0\n",
      "2020-11-11 16:46:00,425 : INFO : EPOCH 4 - PROGRESS: at 87.70% examples, 162161 words/s, in_qsize 5, out_qsize 0\n",
      "2020-11-11 16:46:02,114 : INFO : EPOCH 4 - PROGRESS: at 88.52% examples, 161521 words/s, in_qsize 6, out_qsize 0\n",
      "2020-11-11 16:46:03,208 : INFO : EPOCH 4 - PROGRESS: at 89.67% examples, 162120 words/s, in_qsize 5, out_qsize 0\n",
      "2020-11-11 16:46:04,379 : INFO : EPOCH 4 - PROGRESS: at 90.39% examples, 161775 words/s, in_qsize 6, out_qsize 1\n",
      "2020-11-11 16:46:05,419 : INFO : EPOCH 4 - PROGRESS: at 91.20% examples, 161747 words/s, in_qsize 5, out_qsize 0\n",
      "2020-11-11 16:46:06,439 : INFO : EPOCH 4 - PROGRESS: at 92.03% examples, 161661 words/s, in_qsize 5, out_qsize 0\n"
     ]
    },
    {
     "name": "stderr",
     "output_type": "stream",
     "text": [
      "2020-11-11 16:46:07,634 : INFO : EPOCH 4 - PROGRESS: at 92.80% examples, 161346 words/s, in_qsize 5, out_qsize 2\n",
      "2020-11-11 16:46:08,806 : INFO : EPOCH 4 - PROGRESS: at 93.82% examples, 161460 words/s, in_qsize 6, out_qsize 0\n",
      "2020-11-11 16:46:10,122 : INFO : EPOCH 4 - PROGRESS: at 94.84% examples, 161799 words/s, in_qsize 5, out_qsize 0\n",
      "2020-11-11 16:46:11,188 : INFO : EPOCH 4 - PROGRESS: at 95.32% examples, 161253 words/s, in_qsize 5, out_qsize 1\n",
      "2020-11-11 16:46:12,490 : INFO : EPOCH 4 - PROGRESS: at 96.28% examples, 161561 words/s, in_qsize 5, out_qsize 0\n",
      "2020-11-11 16:46:13,524 : INFO : EPOCH 4 - PROGRESS: at 96.98% examples, 161216 words/s, in_qsize 6, out_qsize 1\n",
      "2020-11-11 16:46:15,054 : INFO : EPOCH 4 - PROGRESS: at 98.22% examples, 161290 words/s, in_qsize 6, out_qsize 0\n",
      "2020-11-11 16:46:16,103 : INFO : EPOCH 4 - PROGRESS: at 99.18% examples, 161398 words/s, in_qsize 6, out_qsize 0\n",
      "2020-11-11 16:46:16,843 : INFO : worker thread finished; awaiting finish of 2 more threads\n",
      "2020-11-11 16:46:16,856 : INFO : worker thread finished; awaiting finish of 1 more threads\n",
      "2020-11-11 16:46:16,861 : INFO : worker thread finished; awaiting finish of 0 more threads\n",
      "2020-11-11 16:46:16,862 : INFO : EPOCH - 4 : training on 21544694 raw words (21317123 effective words) took 131.8s, 161786 effective words/s\n",
      "2020-11-11 16:46:17,925 : INFO : EPOCH 5 - PROGRESS: at 0.81% examples, 303777 words/s, in_qsize 5, out_qsize 0\n",
      "2020-11-11 16:46:18,977 : INFO : EPOCH 5 - PROGRESS: at 1.67% examples, 234081 words/s, in_qsize 5, out_qsize 2\n",
      "2020-11-11 16:46:20,630 : INFO : EPOCH 5 - PROGRESS: at 1.82% examples, 146081 words/s, in_qsize 6, out_qsize 2\n",
      "2020-11-11 16:46:21,680 : INFO : EPOCH 5 - PROGRESS: at 2.17% examples, 144757 words/s, in_qsize 6, out_qsize 2\n",
      "2020-11-11 16:46:22,784 : INFO : EPOCH 5 - PROGRESS: at 2.65% examples, 140266 words/s, in_qsize 6, out_qsize 1\n",
      "2020-11-11 16:46:24,113 : INFO : EPOCH 5 - PROGRESS: at 3.29% examples, 143326 words/s, in_qsize 6, out_qsize 0\n",
      "2020-11-11 16:46:25,242 : INFO : EPOCH 5 - PROGRESS: at 4.45% examples, 168919 words/s, in_qsize 5, out_qsize 0\n",
      "2020-11-11 16:46:26,577 : INFO : EPOCH 5 - PROGRESS: at 5.34% examples, 183842 words/s, in_qsize 6, out_qsize 1\n",
      "2020-11-11 16:46:28,237 : INFO : EPOCH 5 - PROGRESS: at 7.72% examples, 182191 words/s, in_qsize 5, out_qsize 0\n",
      "2020-11-11 16:46:29,304 : INFO : EPOCH 5 - PROGRESS: at 8.78% examples, 187347 words/s, in_qsize 5, out_qsize 0\n",
      "2020-11-11 16:46:30,309 : INFO : EPOCH 5 - PROGRESS: at 9.77% examples, 191748 words/s, in_qsize 5, out_qsize 0\n",
      "2020-11-11 16:46:31,312 : INFO : EPOCH 5 - PROGRESS: at 10.59% examples, 195047 words/s, in_qsize 5, out_qsize 0\n",
      "2020-11-11 16:46:32,496 : INFO : EPOCH 5 - PROGRESS: at 11.52% examples, 197983 words/s, in_qsize 6, out_qsize 1\n",
      "2020-11-11 16:46:33,513 : INFO : EPOCH 5 - PROGRESS: at 12.74% examples, 202714 words/s, in_qsize 5, out_qsize 0\n",
      "2020-11-11 16:46:34,539 : INFO : EPOCH 5 - PROGRESS: at 14.03% examples, 206203 words/s, in_qsize 5, out_qsize 0\n",
      "2020-11-11 16:46:35,840 : INFO : EPOCH 5 - PROGRESS: at 14.79% examples, 201237 words/s, in_qsize 5, out_qsize 0\n",
      "2020-11-11 16:46:36,867 : INFO : EPOCH 5 - PROGRESS: at 15.85% examples, 204661 words/s, in_qsize 5, out_qsize 0\n",
      "2020-11-11 16:46:38,268 : INFO : EPOCH 5 - PROGRESS: at 17.99% examples, 203825 words/s, in_qsize 6, out_qsize 0\n",
      "2020-11-11 16:46:39,283 : INFO : EPOCH 5 - PROGRESS: at 18.98% examples, 204529 words/s, in_qsize 5, out_qsize 0\n",
      "2020-11-11 16:46:40,288 : INFO : EPOCH 5 - PROGRESS: at 19.42% examples, 199531 words/s, in_qsize 5, out_qsize 0\n",
      "2020-11-11 16:46:41,360 : INFO : EPOCH 5 - PROGRESS: at 21.23% examples, 202682 words/s, in_qsize 5, out_qsize 0\n",
      "2020-11-11 16:46:42,489 : INFO : EPOCH 5 - PROGRESS: at 21.67% examples, 197184 words/s, in_qsize 6, out_qsize 2\n",
      "2020-11-11 16:46:43,497 : INFO : EPOCH 5 - PROGRESS: at 23.48% examples, 202104 words/s, in_qsize 6, out_qsize 1\n",
      "2020-11-11 16:46:44,615 : INFO : EPOCH 5 - PROGRESS: at 25.31% examples, 208088 words/s, in_qsize 5, out_qsize 0\n",
      "2020-11-11 16:46:45,716 : INFO : EPOCH 5 - PROGRESS: at 25.53% examples, 201970 words/s, in_qsize 6, out_qsize 0\n",
      "2020-11-11 16:46:46,717 : INFO : EPOCH 5 - PROGRESS: at 27.07% examples, 204032 words/s, in_qsize 5, out_qsize 0\n",
      "2020-11-11 16:46:47,739 : INFO : EPOCH 5 - PROGRESS: at 28.19% examples, 205303 words/s, in_qsize 5, out_qsize 0\n",
      "2020-11-11 16:46:48,743 : INFO : EPOCH 5 - PROGRESS: at 30.04% examples, 209603 words/s, in_qsize 6, out_qsize 1\n",
      "2020-11-11 16:46:49,749 : INFO : EPOCH 5 - PROGRESS: at 31.79% examples, 214094 words/s, in_qsize 6, out_qsize 1\n",
      "2020-11-11 16:46:51,093 : INFO : EPOCH 5 - PROGRESS: at 32.97% examples, 214689 words/s, in_qsize 6, out_qsize 1\n",
      "2020-11-11 16:46:52,128 : INFO : EPOCH 5 - PROGRESS: at 33.68% examples, 213052 words/s, in_qsize 5, out_qsize 2\n",
      "2020-11-11 16:46:53,628 : INFO : EPOCH 5 - PROGRESS: at 34.03% examples, 206462 words/s, in_qsize 6, out_qsize 1\n",
      "2020-11-11 16:46:54,723 : INFO : EPOCH 5 - PROGRESS: at 35.40% examples, 209047 words/s, in_qsize 5, out_qsize 0\n",
      "2020-11-11 16:46:55,791 : INFO : EPOCH 5 - PROGRESS: at 36.55% examples, 210370 words/s, in_qsize 4, out_qsize 1\n",
      "2020-11-11 16:46:56,804 : INFO : EPOCH 5 - PROGRESS: at 37.84% examples, 210743 words/s, in_qsize 3, out_qsize 2\n",
      "2020-11-11 16:46:57,808 : INFO : EPOCH 5 - PROGRESS: at 39.11% examples, 210633 words/s, in_qsize 5, out_qsize 0\n",
      "2020-11-11 16:46:58,853 : INFO : EPOCH 5 - PROGRESS: at 40.25% examples, 212987 words/s, in_qsize 4, out_qsize 1\n",
      "2020-11-11 16:46:59,867 : INFO : EPOCH 5 - PROGRESS: at 41.36% examples, 214971 words/s, in_qsize 5, out_qsize 0\n",
      "2020-11-11 16:47:00,893 : INFO : EPOCH 5 - PROGRESS: at 42.52% examples, 216533 words/s, in_qsize 6, out_qsize 0\n",
      "2020-11-11 16:47:01,925 : INFO : EPOCH 5 - PROGRESS: at 43.57% examples, 216208 words/s, in_qsize 5, out_qsize 2\n",
      "2020-11-11 16:47:02,962 : INFO : EPOCH 5 - PROGRESS: at 44.62% examples, 217350 words/s, in_qsize 5, out_qsize 0\n",
      "2020-11-11 16:47:04,013 : INFO : EPOCH 5 - PROGRESS: at 45.49% examples, 216785 words/s, in_qsize 5, out_qsize 1\n",
      "2020-11-11 16:47:05,047 : INFO : EPOCH 5 - PROGRESS: at 45.73% examples, 213335 words/s, in_qsize 4, out_qsize 1\n",
      "2020-11-11 16:47:06,051 : INFO : EPOCH 5 - PROGRESS: at 46.39% examples, 212135 words/s, in_qsize 4, out_qsize 1\n",
      "2020-11-11 16:47:07,053 : INFO : EPOCH 5 - PROGRESS: at 46.88% examples, 209641 words/s, in_qsize 3, out_qsize 2\n",
      "2020-11-11 16:47:08,111 : INFO : EPOCH 5 - PROGRESS: at 47.90% examples, 209462 words/s, in_qsize 5, out_qsize 0\n",
      "2020-11-11 16:47:09,408 : INFO : EPOCH 5 - PROGRESS: at 48.61% examples, 207034 words/s, in_qsize 6, out_qsize 1\n",
      "2020-11-11 16:47:11,195 : INFO : EPOCH 5 - PROGRESS: at 49.34% examples, 203608 words/s, in_qsize 5, out_qsize 0\n",
      "2020-11-11 16:47:12,212 : INFO : EPOCH 5 - PROGRESS: at 50.00% examples, 202496 words/s, in_qsize 4, out_qsize 1\n",
      "2020-11-11 16:47:13,222 : INFO : EPOCH 5 - PROGRESS: at 51.22% examples, 203379 words/s, in_qsize 5, out_qsize 0\n",
      "2020-11-11 16:47:14,275 : INFO : EPOCH 5 - PROGRESS: at 52.60% examples, 204553 words/s, in_qsize 6, out_qsize 0\n",
      "2020-11-11 16:47:15,306 : INFO : EPOCH 5 - PROGRESS: at 53.77% examples, 204701 words/s, in_qsize 6, out_qsize 0\n",
      "2020-11-11 16:47:16,331 : INFO : EPOCH 5 - PROGRESS: at 54.68% examples, 204202 words/s, in_qsize 5, out_qsize 0\n",
      "2020-11-11 16:47:17,631 : INFO : EPOCH 5 - PROGRESS: at 56.25% examples, 205120 words/s, in_qsize 6, out_qsize 2\n",
      "2020-11-11 16:47:18,651 : INFO : EPOCH 5 - PROGRESS: at 56.73% examples, 203497 words/s, in_qsize 6, out_qsize 1\n",
      "2020-11-11 16:47:20,112 : INFO : EPOCH 5 - PROGRESS: at 57.28% examples, 200648 words/s, in_qsize 6, out_qsize 1\n",
      "2020-11-11 16:47:21,359 : INFO : EPOCH 5 - PROGRESS: at 58.76% examples, 201736 words/s, in_qsize 5, out_qsize 0\n",
      "2020-11-11 16:47:22,687 : INFO : EPOCH 5 - PROGRESS: at 60.06% examples, 201287 words/s, in_qsize 6, out_qsize 0\n",
      "2020-11-11 16:47:23,703 : INFO : EPOCH 5 - PROGRESS: at 61.05% examples, 201253 words/s, in_qsize 6, out_qsize 1\n",
      "2020-11-11 16:47:24,720 : INFO : EPOCH 5 - PROGRESS: at 62.34% examples, 202100 words/s, in_qsize 6, out_qsize 1\n",
      "2020-11-11 16:47:25,731 : INFO : EPOCH 5 - PROGRESS: at 62.78% examples, 200383 words/s, in_qsize 4, out_qsize 1\n"
     ]
    },
    {
     "name": "stderr",
     "output_type": "stream",
     "text": [
      "2020-11-11 16:47:26,761 : INFO : EPOCH 5 - PROGRESS: at 64.03% examples, 200754 words/s, in_qsize 6, out_qsize 0\n",
      "2020-11-11 16:47:27,910 : INFO : EPOCH 5 - PROGRESS: at 64.96% examples, 199666 words/s, in_qsize 6, out_qsize 0\n",
      "2020-11-11 16:47:28,960 : INFO : EPOCH 5 - PROGRESS: at 65.99% examples, 199557 words/s, in_qsize 5, out_qsize 0\n",
      "2020-11-11 16:47:30,180 : INFO : EPOCH 5 - PROGRESS: at 67.18% examples, 198898 words/s, in_qsize 5, out_qsize 0\n",
      "2020-11-11 16:47:31,478 : INFO : EPOCH 5 - PROGRESS: at 68.08% examples, 197921 words/s, in_qsize 5, out_qsize 0\n",
      "2020-11-11 16:47:32,511 : INFO : EPOCH 5 - PROGRESS: at 68.67% examples, 196738 words/s, in_qsize 5, out_qsize 0\n",
      "2020-11-11 16:47:34,024 : INFO : EPOCH 5 - PROGRESS: at 69.45% examples, 194951 words/s, in_qsize 6, out_qsize 1\n",
      "2020-11-11 16:47:34,990 : INFO : EPOCH 5 - PROGRESS: at 70.10% examples, 193974 words/s, in_qsize 5, out_qsize 0\n",
      "2020-11-11 16:47:36,063 : INFO : EPOCH 5 - PROGRESS: at 71.31% examples, 194146 words/s, in_qsize 6, out_qsize 0\n",
      "2020-11-11 16:47:37,090 : INFO : EPOCH 5 - PROGRESS: at 72.59% examples, 194548 words/s, in_qsize 5, out_qsize 0\n",
      "2020-11-11 16:47:38,325 : INFO : EPOCH 5 - PROGRESS: at 73.56% examples, 194161 words/s, in_qsize 6, out_qsize 0\n",
      "2020-11-11 16:47:39,404 : INFO : EPOCH 5 - PROGRESS: at 74.66% examples, 194207 words/s, in_qsize 4, out_qsize 0\n",
      "2020-11-11 16:47:40,460 : INFO : EPOCH 5 - PROGRESS: at 76.14% examples, 195243 words/s, in_qsize 5, out_qsize 0\n",
      "2020-11-11 16:47:41,507 : INFO : EPOCH 5 - PROGRESS: at 76.71% examples, 194327 words/s, in_qsize 4, out_qsize 1\n",
      "2020-11-11 16:47:42,531 : INFO : EPOCH 5 - PROGRESS: at 77.26% examples, 193409 words/s, in_qsize 3, out_qsize 2\n",
      "2020-11-11 16:47:43,544 : INFO : EPOCH 5 - PROGRESS: at 78.07% examples, 193410 words/s, in_qsize 5, out_qsize 0\n",
      "2020-11-11 16:47:44,605 : INFO : EPOCH 5 - PROGRESS: at 78.90% examples, 193060 words/s, in_qsize 5, out_qsize 0\n",
      "2020-11-11 16:47:45,623 : INFO : EPOCH 5 - PROGRESS: at 79.68% examples, 192657 words/s, in_qsize 5, out_qsize 0\n",
      "2020-11-11 16:47:46,627 : INFO : EPOCH 5 - PROGRESS: at 80.76% examples, 192541 words/s, in_qsize 4, out_qsize 1\n",
      "2020-11-11 16:47:47,639 : INFO : EPOCH 5 - PROGRESS: at 81.47% examples, 191584 words/s, in_qsize 4, out_qsize 2\n",
      "2020-11-11 16:47:48,641 : INFO : EPOCH 5 - PROGRESS: at 82.21% examples, 190767 words/s, in_qsize 6, out_qsize 1\n",
      "2020-11-11 16:47:49,690 : INFO : EPOCH 5 - PROGRESS: at 82.83% examples, 189858 words/s, in_qsize 5, out_qsize 0\n",
      "2020-11-11 16:47:51,322 : INFO : EPOCH 5 - PROGRESS: at 83.07% examples, 187185 words/s, in_qsize 5, out_qsize 2\n",
      "2020-11-11 16:47:52,426 : INFO : EPOCH 5 - PROGRESS: at 83.72% examples, 186500 words/s, in_qsize 6, out_qsize 0\n",
      "2020-11-11 16:47:53,772 : INFO : EPOCH 5 - PROGRESS: at 84.20% examples, 184813 words/s, in_qsize 5, out_qsize 0\n",
      "2020-11-11 16:47:55,020 : INFO : EPOCH 5 - PROGRESS: at 84.65% examples, 183345 words/s, in_qsize 6, out_qsize 0\n",
      "2020-11-11 16:47:56,107 : INFO : EPOCH 5 - PROGRESS: at 85.13% examples, 182297 words/s, in_qsize 5, out_qsize 0\n",
      "2020-11-11 16:47:57,244 : INFO : EPOCH 5 - PROGRESS: at 85.57% examples, 181382 words/s, in_qsize 4, out_qsize 1\n",
      "2020-11-11 16:47:58,300 : INFO : EPOCH 5 - PROGRESS: at 86.25% examples, 181120 words/s, in_qsize 4, out_qsize 1\n",
      "2020-11-11 16:47:59,477 : INFO : EPOCH 5 - PROGRESS: at 87.15% examples, 181120 words/s, in_qsize 5, out_qsize 0\n",
      "2020-11-11 16:48:00,545 : INFO : EPOCH 5 - PROGRESS: at 87.42% examples, 179823 words/s, in_qsize 3, out_qsize 2\n",
      "2020-11-11 16:48:01,715 : INFO : EPOCH 5 - PROGRESS: at 87.79% examples, 178671 words/s, in_qsize 6, out_qsize 0\n",
      "2020-11-11 16:48:02,827 : INFO : EPOCH 5 - PROGRESS: at 88.10% examples, 177479 words/s, in_qsize 6, out_qsize 0\n",
      "2020-11-11 16:48:03,865 : INFO : EPOCH 5 - PROGRESS: at 88.40% examples, 176486 words/s, in_qsize 5, out_qsize 0\n",
      "2020-11-11 16:48:05,064 : INFO : EPOCH 5 - PROGRESS: at 88.79% examples, 175340 words/s, in_qsize 5, out_qsize 1\n",
      "2020-11-11 16:48:06,068 : INFO : EPOCH 5 - PROGRESS: at 89.48% examples, 175104 words/s, in_qsize 4, out_qsize 0\n",
      "2020-11-11 16:48:07,114 : INFO : EPOCH 5 - PROGRESS: at 90.30% examples, 174880 words/s, in_qsize 5, out_qsize 0\n",
      "2020-11-11 16:48:08,762 : INFO : EPOCH 5 - PROGRESS: at 90.95% examples, 173437 words/s, in_qsize 6, out_qsize 0\n",
      "2020-11-11 16:48:09,853 : INFO : EPOCH 5 - PROGRESS: at 91.29% examples, 172449 words/s, in_qsize 6, out_qsize 0\n",
      "2020-11-11 16:48:10,881 : INFO : EPOCH 5 - PROGRESS: at 91.57% examples, 171322 words/s, in_qsize 5, out_qsize 0\n",
      "2020-11-11 16:48:11,949 : INFO : EPOCH 5 - PROGRESS: at 92.07% examples, 170564 words/s, in_qsize 5, out_qsize 0\n",
      "2020-11-11 16:48:13,040 : INFO : EPOCH 5 - PROGRESS: at 92.64% examples, 169960 words/s, in_qsize 5, out_qsize 1\n",
      "2020-11-11 16:48:14,150 : INFO : EPOCH 5 - PROGRESS: at 93.17% examples, 169182 words/s, in_qsize 5, out_qsize 1\n",
      "2020-11-11 16:48:15,159 : INFO : EPOCH 5 - PROGRESS: at 93.82% examples, 168878 words/s, in_qsize 6, out_qsize 2\n",
      "2020-11-11 16:48:16,218 : INFO : EPOCH 5 - PROGRESS: at 94.67% examples, 169043 words/s, in_qsize 3, out_qsize 2\n",
      "2020-11-11 16:48:17,253 : INFO : EPOCH 5 - PROGRESS: at 95.52% examples, 169315 words/s, in_qsize 3, out_qsize 2\n",
      "2020-11-11 16:48:18,279 : INFO : EPOCH 5 - PROGRESS: at 96.20% examples, 169299 words/s, in_qsize 5, out_qsize 0\n",
      "2020-11-11 16:48:19,437 : INFO : EPOCH 5 - PROGRESS: at 97.34% examples, 169556 words/s, in_qsize 6, out_qsize 0\n",
      "2020-11-11 16:48:20,484 : INFO : EPOCH 5 - PROGRESS: at 98.01% examples, 169274 words/s, in_qsize 4, out_qsize 1\n",
      "2020-11-11 16:48:21,622 : INFO : EPOCH 5 - PROGRESS: at 99.12% examples, 169428 words/s, in_qsize 4, out_qsize 1\n",
      "2020-11-11 16:48:22,324 : INFO : worker thread finished; awaiting finish of 2 more threads\n",
      "2020-11-11 16:48:22,389 : INFO : worker thread finished; awaiting finish of 1 more threads\n",
      "2020-11-11 16:48:22,404 : INFO : worker thread finished; awaiting finish of 0 more threads\n",
      "2020-11-11 16:48:22,405 : INFO : EPOCH - 5 : training on 21544694 raw words (21317586 effective words) took 125.5s, 169833 effective words/s\n",
      "2020-11-11 16:48:22,407 : INFO : training on a 107723470 raw words (106587410 effective words) took 805.6s, 132306 effective words/s\n"
     ]
    },
    {
     "data": {
      "text/plain": [
       "<gensim.models.word2vec.Word2Vec at 0x7fdf9031c810>"
      ]
     },
     "execution_count": 74,
     "metadata": {},
     "output_type": "execute_result"
    }
   ],
   "source": [
    "# 초기화 및 모델 학습\n",
    "from gensim.models import word2vec\n",
    "\n",
    "# 모델 학습\n",
    "model = word2vec.Word2Vec(tokens, min_count=1)\n",
    "\n",
    "model"
   ]
  },
  {
   "cell_type": "code",
   "execution_count": 75,
   "metadata": {
    "id": "NZwI-ooATnsN"
   },
   "outputs": [
    {
     "name": "stderr",
     "output_type": "stream",
     "text": [
      "2020-11-11 17:16:11,380 : INFO : saving Word2Vec object under 1minwords, separately None\n",
      "2020-11-11 17:16:11,443 : INFO : storing np array 'vectors' to 1minwords.wv.vectors.npy\n",
      "2020-11-11 17:16:42,077 : INFO : not storing attribute vectors_norm\n",
      "2020-11-11 17:16:42,194 : INFO : storing np array 'syn1neg' to 1minwords.trainables.syn1neg.npy\n",
      "2020-11-11 17:16:52,945 : INFO : not storing attribute cum_table\n",
      "2020-11-11 17:19:11,441 : INFO : saved 1minwords\n"
     ]
    }
   ],
   "source": [
    "# 모델 이름을 지정하고 저장한다.\n",
    "model_name = '1minwords'\n",
    "model.save(model_name)"
   ]
  },
  {
   "cell_type": "code",
   "execution_count": 76,
   "metadata": {
    "id": "GJiUvmsETnsU"
   },
   "outputs": [
    {
     "data": {
      "text/plain": [
       "1800101"
      ]
     },
     "execution_count": 76,
     "metadata": {},
     "output_type": "execute_result"
    }
   ],
   "source": [
    "# 단어 사전 수\n",
    "len(model.wv.vocab)"
   ]
  },
  {
   "cell_type": "code",
   "execution_count": 77,
   "metadata": {
    "id": "Yt4ShKcQTnsY"
   },
   "outputs": [
    {
     "data": {
      "text/plain": [
       "['수',\n",
       " '있습니다',\n",
       " '있는',\n",
       " '그',\n",
       " '이',\n",
       " '합니다',\n",
       " '년',\n",
       " '더',\n",
       " '하는',\n",
       " '대한',\n",
       " '하고',\n",
       " '할',\n",
       " '그리고',\n",
       " '한',\n",
       " '저는',\n",
       " '제',\n",
       " '위해',\n",
       " '일',\n",
       " '및',\n",
       " '이런',\n",
       " '것입니다',\n",
       " '없는',\n",
       " '왜',\n",
       " '많은',\n",
       " '월',\n",
       " '모든',\n",
       " '등',\n",
       " '것이',\n",
       " '지금',\n",
       " '또한']"
      ]
     },
     "execution_count": 77,
     "metadata": {},
     "output_type": "execute_result"
    }
   ],
   "source": [
    "# 단어 사전에서 상위 10개만 보기\n",
    "vocab = model.wv.vocab\n",
    "sorted(vocab, key=vocab.get, reverse=True)[:30]"
   ]
  },
  {
   "cell_type": "markdown",
   "metadata": {
    "id": "LNlVuT2dTnsc"
   },
   "source": [
    "# 불용어\n",
    "* 가장 자주 등장하는 단어이지만 불용어에 가깝다.\n",
    "\n",
    "\n",
    "['수',\n",
    " '있는',\n",
    " '있습니다',\n",
    " '그',\n",
    " '이',\n",
    " '년',\n",
    " '합니다',\n",
    " '하는',\n",
    " '및',\n",
    " '제',\n",
    " '할',\n",
    " '하고',\n",
    " '더',\n",
    " '대한',\n",
    " '한',\n",
    " '그리고',\n",
    " '월',\n",
    " '저는',\n",
    " '없는',\n",
    " '것입니다',\n",
    " '등',\n",
    " '일',\n",
    " '많은',\n",
    " '이런',\n",
    " '것은',\n",
    " '왜',\n",
    " '같은',\n",
    " '없습니다',\n",
    " '위해']"
   ]
  },
  {
   "cell_type": "code",
   "execution_count": 78,
   "metadata": {
    "id": "qzYOEg7wTnse"
   },
   "outputs": [],
   "source": [
    "# voacab을 직접찍어 보면 dict 구조로 되어 있는 것을 볼 수 있습니다.\n",
    "# vocab"
   ]
  },
  {
   "cell_type": "code",
   "execution_count": 79,
   "metadata": {
    "id": "czxolhLnTnsi"
   },
   "outputs": [
    {
     "data": {
      "text/plain": [
       "{'수': <gensim.models.keyedvectors.Vocab at 0x7fdf5a38a590>,\n",
       " '있습니다': <gensim.models.keyedvectors.Vocab at 0x7fdf5a386390>,\n",
       " '있는': <gensim.models.keyedvectors.Vocab at 0x7fdf5a38d350>,\n",
       " '그': <gensim.models.keyedvectors.Vocab at 0x7fe02e95e5d0>,\n",
       " '이': <gensim.models.keyedvectors.Vocab at 0x7fe02e94ec90>,\n",
       " '합니다': <gensim.models.keyedvectors.Vocab at 0x7fdf5a386f50>,\n",
       " '년': <gensim.models.keyedvectors.Vocab at 0x7fdf5a38aa50>,\n",
       " '더': <gensim.models.keyedvectors.Vocab at 0x7fdf5a38d550>,\n",
       " '하는': <gensim.models.keyedvectors.Vocab at 0x7fdf90318890>,\n",
       " '대한': <gensim.models.keyedvectors.Vocab at 0x7fdf5a390dd0>,\n",
       " '하고': <gensim.models.keyedvectors.Vocab at 0x7fdf55322510>,\n",
       " '할': <gensim.models.keyedvectors.Vocab at 0x7fdf5a38d750>,\n",
       " '그리고': <gensim.models.keyedvectors.Vocab at 0x7fdf61220950>,\n",
       " '한': <gensim.models.keyedvectors.Vocab at 0x7fdf5a3866d0>,\n",
       " '저는': <gensim.models.keyedvectors.Vocab at 0x7fdf553225d0>,\n",
       " '제': <gensim.models.keyedvectors.Vocab at 0x7fdf55322890>,\n",
       " '위해': <gensim.models.keyedvectors.Vocab at 0x7fdf5a38af10>,\n",
       " '일': <gensim.models.keyedvectors.Vocab at 0x7fdf5a3befd0>,\n",
       " '및': <gensim.models.keyedvectors.Vocab at 0x7fdf5531bb10>,\n",
       " '이런': <gensim.models.keyedvectors.Vocab at 0x7fdf5a3b4b90>}"
      ]
     },
     "execution_count": 79,
     "metadata": {},
     "output_type": "execute_result"
    }
   ],
   "source": [
    "# Counter로 자주 등장하는 단어 보기\n",
    "from collections import Counter\n",
    "dict(Counter(vocab).most_common(20))"
   ]
  },
  {
   "cell_type": "code",
   "execution_count": 80,
   "metadata": {
    "id": "DleBDsctTnsl"
   },
   "outputs": [
    {
     "data": {
      "text/plain": [
       "'시정요구시정을'"
      ]
     },
     "execution_count": 80,
     "metadata": {},
     "output_type": "execute_result"
    }
   ],
   "source": [
    "# 가장 적게 등장하는 단어\n",
    "min(vocab, key=vocab.get)"
   ]
  },
  {
   "cell_type": "code",
   "execution_count": 81,
   "metadata": {
    "id": "qA4i2ZkqTnsn"
   },
   "outputs": [
    {
     "data": {
      "text/plain": [
       "array([-1.4578940e+00, -9.6660465e-01, -1.0069845e+00,  5.1763940e-01,\n",
       "        2.8377626e+00,  1.1819578e+00,  1.6779543e+00, -1.4722869e+00,\n",
       "        6.5828443e-01, -1.5256027e+00, -5.3689307e-01, -7.1397930e-01,\n",
       "       -2.5232954e+00, -1.1463704e+00, -4.7286124e+00,  1.7277734e+00,\n",
       "       -1.7098613e+00, -1.9157165e-01,  2.2864101e+00, -1.8038148e-01,\n",
       "        1.9241227e+00,  5.8725876e-01, -1.6028242e+00,  4.9698944e+00,\n",
       "       -3.9035430e+00, -7.0249237e-04, -2.1636636e+00,  2.1044412e+00,\n",
       "        1.5340217e+00,  2.3678408e+00, -2.9432540e+00, -9.8532742e-01,\n",
       "       -3.5186734e+00,  3.5817990e-01,  1.1386875e+00, -1.2618438e+00,\n",
       "        8.3634728e-01,  2.0999699e+00, -7.0381126e+00,  2.5026999e+00,\n",
       "       -1.8488300e+00, -4.4475503e+00, -2.7973244e+00, -1.1562358e+00,\n",
       "       -1.0703003e+00,  3.1287811e+00, -1.0312816e+00,  7.7669424e-01,\n",
       "        9.9748576e-01,  7.7930534e-01, -2.5424272e-02,  2.5210457e+00,\n",
       "       -1.0685785e+00,  2.2608988e+00,  1.6399742e+00, -1.2065495e+00,\n",
       "       -2.1502440e+00,  1.2808266e+00,  3.9153533e+00, -1.4704052e+00,\n",
       "       -1.8721070e+00, -2.9675338e+00, -2.3982625e+00, -2.3601449e+00,\n",
       "        1.7975992e+00, -6.5650111e-01, -3.3694565e-01, -2.5838014e-01,\n",
       "       -1.8811243e+00, -5.0592754e-02,  1.6784559e+00, -7.4404955e-02,\n",
       "        1.5530709e+00,  8.9904368e-01,  2.7682322e-01, -1.3467593e+00,\n",
       "        2.6494029e+00, -6.2911034e-01, -3.3282976e+00, -1.4126279e+00,\n",
       "        1.5492624e+00, -1.4898369e+00, -6.7391294e-01,  1.2080225e+00,\n",
       "        7.7473956e-01, -1.0824999e+00,  6.4460270e-02, -3.0792969e-01,\n",
       "       -2.1695979e+00, -5.7101089e-01, -2.6510916e+00, -6.8992728e-01,\n",
       "        3.2089331e+00, -4.2171469e-01,  1.5906925e+00,  2.9535043e+00,\n",
       "       -2.1999095e-01, -3.5305705e+00, -2.0517511e+00,  2.5178471e+00],\n",
       "      dtype=float32)"
      ]
     },
     "execution_count": 81,
     "metadata": {},
     "output_type": "execute_result"
    }
   ],
   "source": [
    "model.wv['주식']"
   ]
  },
  {
   "cell_type": "code",
   "execution_count": 82,
   "metadata": {
    "id": "Qv5myyQpTnsq"
   },
   "outputs": [
    {
     "name": "stderr",
     "output_type": "stream",
     "text": [
      "2020-11-11 17:19:23,159 : INFO : precomputing L2-norms of word weight vectors\n"
     ]
    },
    {
     "data": {
      "text/plain": [
       "[('주식은', 0.7990435361862183),\n",
       " ('코인', 0.7897217273712158),\n",
       " ('가상화폐', 0.7893868684768677),\n",
       " ('주식시장에서', 0.7857382297515869),\n",
       " ('주식을', 0.7768791913986206),\n",
       " ('주식이', 0.7763842940330505),\n",
       " ('주식이나', 0.7702004909515381),\n",
       " ('코스닥', 0.7688047289848328),\n",
       " ('공매도', 0.762190580368042),\n",
       " ('투자', 0.7587264776229858)]"
      ]
     },
     "execution_count": 82,
     "metadata": {},
     "output_type": "execute_result"
    }
   ],
   "source": [
    "model.wv.most_similar('주식')"
   ]
  },
  {
   "cell_type": "code",
   "execution_count": 83,
   "metadata": {
    "id": "YcShd2ltTnss"
   },
   "outputs": [
    {
     "data": {
      "text/plain": [
       "[('집값', 0.8145335912704468),\n",
       " ('투기', 0.7735028266906738),\n",
       " ('집값을', 0.7398074865341187),\n",
       " ('보훈가족에게도', 0.7149262428283691),\n",
       " ('부동산이', 0.7131049633026123),\n",
       " ('폭등을', 0.7099111676216125),\n",
       " ('투기를', 0.7066905498504639),\n",
       " ('가격', 0.7064038515090942),\n",
       " ('부동산을', 0.7059067487716675),\n",
       " ('폭등', 0.7052556276321411)]"
      ]
     },
     "execution_count": 83,
     "metadata": {},
     "output_type": "execute_result"
    }
   ],
   "source": [
    "model.wv.most_similar('부동산')"
   ]
  },
  {
   "cell_type": "code",
   "execution_count": 84,
   "metadata": {
    "id": "yjfXOwDqTnsy"
   },
   "outputs": [
    {
     "name": "stderr",
     "output_type": "stream",
     "text": [
      "/Users/KimJungHwan/opt/anaconda3/lib/python3.7/site-packages/gensim/models/keyedvectors.py:877: FutureWarning: arrays to stack must be passed as a \"sequence\" type such as list or tuple. Support for non-sequence iterables such as generators is deprecated as of NumPy 1.16 and will raise an error in the future.\n",
      "  vectors = vstack(self.word_vec(word, use_norm=True) for word in used_words).astype(REAL)\n"
     ]
    },
    {
     "data": {
      "text/plain": [
       "'부동산'"
      ]
     },
     "execution_count": 84,
     "metadata": {},
     "output_type": "execute_result"
    }
   ],
   "source": [
    "# 유사도가 없는 단어 추출\n",
    "model.wv.doesnt_match('부동산 증권 현금 코스닥 코스피'.split())"
   ]
  },
  {
   "cell_type": "code",
   "execution_count": 85,
   "metadata": {
    "id": "PBu35UGXTns0"
   },
   "outputs": [
    {
     "data": {
      "text/plain": [
       "[('주식은', 0.7990435361862183),\n",
       " ('코인', 0.7897217273712158),\n",
       " ('가상화폐', 0.7893868684768677),\n",
       " ('주식시장에서', 0.7857382297515869),\n",
       " ('주식을', 0.7768791913986206),\n",
       " ('주식이', 0.7763842940330505),\n",
       " ('주식이나', 0.7702004909515381),\n",
       " ('코스닥', 0.7688047289848328),\n",
       " ('공매도', 0.762190580368042),\n",
       " ('투자', 0.7587264776229858)]"
      ]
     },
     "execution_count": 85,
     "metadata": {},
     "output_type": "execute_result"
    }
   ],
   "source": [
    "# 가장 유사한 단어를 추출\n",
    "model.wv.most_similar('주식')"
   ]
  },
  {
   "cell_type": "code",
   "execution_count": 86,
   "metadata": {
    "id": "UNcO4Io1Tns4"
   },
   "outputs": [
    {
     "data": {
      "text/plain": [
       "[('공매도를', 0.8518116474151611),\n",
       " ('공매도는', 0.8213257789611816),\n",
       " ('공매도가', 0.8163548707962036),\n",
       " ('공매도의', 0.8054988384246826),\n",
       " ('무차입', 0.7793150544166565),\n",
       " ('주식', 0.7621905207633972),\n",
       " ('거래소', 0.7492457628250122),\n",
       " ('주식시장', 0.7433615922927856),\n",
       " ('주식시장에서', 0.7410929203033447),\n",
       " ('가상화폐', 0.7360678911209106)]"
      ]
     },
     "execution_count": 86,
     "metadata": {},
     "output_type": "execute_result"
    }
   ],
   "source": [
    "# 가장 유사한 단어를 추출\n",
    "model.wv.most_similar('공매도')"
   ]
  },
  {
   "cell_type": "code",
   "execution_count": 87,
   "metadata": {
    "id": "OQu6Vqw-Tns5"
   },
   "outputs": [
    {
     "data": {
      "text/plain": [
       "[('암호화폐', 0.7616527080535889),\n",
       " ('가상화폐', 0.7447949647903442),\n",
       " ('주식시장', 0.7284490466117859),\n",
       " ('코스닥', 0.727770209312439),\n",
       " ('거래소', 0.7245967388153076),\n",
       " ('김용범씨는', 0.7188432812690735),\n",
       " ('주식시장에서', 0.7146871089935303),\n",
       " ('공매도', 0.7132436633110046),\n",
       " ('공매도의', 0.7111929655075073),\n",
       " ('금융', 0.7053734660148621)]"
      ]
     },
     "execution_count": 87,
     "metadata": {},
     "output_type": "execute_result"
    }
   ],
   "source": [
    "model.wv.most_similar(positive=['주식', '증권'], negative=['현금'])"
   ]
  },
  {
   "cell_type": "markdown",
   "metadata": {
    "id": "vbVXx4zZTns8"
   },
   "source": [
    "# 단어 유사도"
   ]
  },
  {
   "cell_type": "code",
   "execution_count": 93,
   "metadata": {
    "id": "coNm8xRXTns9"
   },
   "outputs": [
    {
     "data": {
      "text/plain": [
       "0.022362525"
      ]
     },
     "execution_count": 93,
     "metadata": {},
     "output_type": "execute_result"
    }
   ],
   "source": [
    "model.wv.similarity('이마트', '대통령')"
   ]
  },
  {
   "cell_type": "code",
   "execution_count": 89,
   "metadata": {
    "id": "5PpSnpMKTntC"
   },
   "outputs": [
    {
     "data": {
      "text/plain": [
       "0.7587265"
      ]
     },
     "execution_count": 89,
     "metadata": {},
     "output_type": "execute_result"
    }
   ],
   "source": [
    "model.wv.similarity('이마트', '영업')"
   ]
  },
  {
   "cell_type": "code",
   "execution_count": 90,
   "metadata": {
    "id": "_w2Q5d7eTntH"
   },
   "outputs": [
    {
     "data": {
      "text/plain": [
       "0.7456009"
      ]
     },
     "execution_count": 90,
     "metadata": {},
     "output_type": "execute_result"
    }
   ],
   "source": [
    "model.wv.similarity('분기', '할인점')"
   ]
  },
  {
   "cell_type": "code",
   "execution_count": 91,
   "metadata": {
    "id": "U7DYB-6oTntM"
   },
   "outputs": [
    {
     "data": {
      "text/plain": [
       "0.5844471"
      ]
     },
     "execution_count": 91,
     "metadata": {},
     "output_type": "execute_result"
    }
   ],
   "source": [
    "model.wv.similarity('분기', '영업')"
   ]
  },
  {
   "cell_type": "code",
   "execution_count": 92,
   "metadata": {
    "id": "kuruBYMNTntR"
   },
   "outputs": [
    {
     "data": {
      "text/plain": [
       "0.6267025"
      ]
     },
     "execution_count": 92,
     "metadata": {},
     "output_type": "execute_result"
    }
   ],
   "source": [
    "model.wv.similarity('삼성', '증권')"
   ]
  },
  {
   "cell_type": "code",
   "execution_count": null,
   "metadata": {
    "id": "59JaKqE3TntX"
   },
   "outputs": [],
   "source": [
    "model.wv.similarity('주식', '공매도')"
   ]
  },
  {
   "cell_type": "markdown",
   "metadata": {
    "id": "-y0gL5vaTnta"
   },
   "source": [
    "# 단어 유사도 시각화"
   ]
  },
  {
   "cell_type": "code",
   "execution_count": null,
   "metadata": {
    "id": "SXTS7FV7Tntb"
   },
   "outputs": [],
   "source": [
    "from sklearn.manifold import TSNE\n",
    "import matplotlib as mpl\n",
    "import matplotlib.pyplot as plt\n",
    "import gensim \n",
    "import gensim.models as g\n",
    "\n",
    "# 그래프에서 마이너스 폰트 깨지는 문제에 대한 대처\n",
    "mpl.rcParams['axes.unicode_minus'] = False\n",
    "\n",
    "model_name = '1minwords'\n",
    "model = g.Doc2Vec.load(model_name)"
   ]
  },
  {
   "cell_type": "code",
   "execution_count": null,
   "metadata": {
    "id": "nBKgF6lkTntg"
   },
   "outputs": [],
   "source": [
    "# Doc2Vec으로 만든 모델을 가져옴\n",
    "vocab = list(model.wv.vocab)\n",
    "# 모델의 단어를 피처로 지정해 준다.\n",
    "X = model[vocab]\n",
    "\n",
    "print('Feature의 길이 {}'.format(len(X)))\n",
    "print(X[0][:10])\n",
    "tsne = TSNE(n_components=2)\n",
    "\n",
    "# 모든 단어를 그래프에 출력하면 글자가 너무 많이 겹치기 때문에 일부 단어에 대해서만 시각화\n",
    "X_tsne = tsne.fit_transform(X[:150,:])"
   ]
  },
  {
   "cell_type": "code",
   "execution_count": null,
   "metadata": {
    "id": "hL5MOr0wTntj"
   },
   "outputs": [],
   "source": [
    "df = pd.DataFrame(X_tsne, index=vocab[:150], columns=['x', 'y'])\n",
    "df.shape"
   ]
  },
  {
   "cell_type": "code",
   "execution_count": null,
   "metadata": {
    "id": "TH7kuDJZTntn"
   },
   "outputs": [],
   "source": [
    "df.head(20)"
   ]
  },
  {
   "cell_type": "code",
   "execution_count": null,
   "metadata": {
    "id": "ENa3dJLFY4Ts"
   },
   "outputs": [],
   "source": [
    "# 그래프에 retina display 적용\n",
    "%config InlineBackend.figure_format = 'retina'\n",
    "\n",
    "# 나눔고딕 설치\n",
    "#!apt -qq -y install fonts-nanum > /dev/null\n",
    "import matplotlib.font_manager as fm\n",
    "fontpath = '/usr/share/fonts/truetype/nanum/NanumBarunGothic.ttf'\n",
    "font = fm.FontProperties(fname=fontpath, size=9)"
   ]
  },
  {
   "cell_type": "code",
   "execution_count": null,
   "metadata": {
    "id": "8bBh49cJTntr"
   },
   "outputs": [],
   "source": [
    "fig = plt.figure()\n",
    "fig.set_size_inches(40, 20)\n",
    "ax = fig.add_subplot(1, 1, 1)\n",
    "\n",
    "ax.scatter(df['x'], df['y'])\n",
    "\n",
    "for word, pos in df.iterrows():\n",
    "    ax.annotate(word, pos, fontsize=30)\n",
    "plt.show()"
   ]
  },
  {
   "cell_type": "code",
   "execution_count": null,
   "metadata": {
    "id": "4aXkjI5bTntt"
   },
   "outputs": [],
   "source": []
  },
  {
   "cell_type": "code",
   "execution_count": null,
   "metadata": {},
   "outputs": [],
   "source": []
  },
  {
   "cell_type": "code",
   "execution_count": null,
   "metadata": {},
   "outputs": [],
   "source": []
  }
 ],
 "metadata": {
  "colab": {
   "collapsed_sections": [
    "yH0qvOAJTnrb",
    "p6LvRooFTnrp",
    "LNlVuT2dTnsc",
    "vbVXx4zZTns8",
    "-y0gL5vaTnta"
   ],
   "name": "Copy of 03 word2vec으로 단어유사도 보기",
   "provenance": []
  },
  "kernelspec": {
   "display_name": "Python 3",
   "language": "python",
   "name": "python3"
  },
  "language_info": {
   "codemirror_mode": {
    "name": "ipython",
    "version": 3
   },
   "file_extension": ".py",
   "mimetype": "text/x-python",
   "name": "python",
   "nbconvert_exporter": "python",
   "pygments_lexer": "ipython3",
   "version": "3.7.4"
  }
 },
 "nbformat": 4,
 "nbformat_minor": 1
}
